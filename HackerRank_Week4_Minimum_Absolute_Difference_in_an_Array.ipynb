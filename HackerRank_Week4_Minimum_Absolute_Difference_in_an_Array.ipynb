{
  "nbformat": 4,
  "nbformat_minor": 0,
  "metadata": {
    "colab": {
      "provenance": [],
      "authorship_tag": "ABX9TyPeVcZzCaTyoe1gfqFIAyCy",
      "include_colab_link": true
    },
    "kernelspec": {
      "name": "python3",
      "display_name": "Python 3"
    },
    "language_info": {
      "name": "python"
    }
  },
  "cells": [
    {
      "cell_type": "markdown",
      "metadata": {
        "id": "view-in-github",
        "colab_type": "text"
      },
      "source": [
        "<a href=\"https://colab.research.google.com/github/Rhin0Runner/File-Metadata-Microservice/blob/main/HackerRank_Week4_Minimum_Absolute_Difference_in_an_Array.ipynb\" target=\"_parent\"><img src=\"https://colab.research.google.com/assets/colab-badge.svg\" alt=\"Open In Colab\"/></a>"
      ]
    },
    {
      "cell_type": "code",
      "execution_count": 13,
      "metadata": {
        "id": "kezMgyIROkKP"
      },
      "outputs": [],
      "source": [
        "def minimumAbsoluteDifference(arr):\n",
        "    arrs = []\n",
        "    while len(arr) >= 2:\n",
        "        for i in range(1,len(arr)):\n",
        "            arrs.append([arr[0], arr[i]])\n",
        "        del arr[:1]\n",
        "    minimum = abs(arrs[0][0] - arrs[0][1])\n",
        "    for elem in arrs:\n",
        "        if abs(elem[0] - elem[1]) < minimum:\n",
        "            minimum = abs(elem[0] - elem[1])\n",
        "    return minimum"
      ]
    },
    {
      "cell_type": "code",
      "source": [
        "arr = [-2,2,4]\n",
        "print(minimumAbsoluteDifference(arr))"
      ],
      "metadata": {
        "colab": {
          "base_uri": "https://localhost:8080/"
        },
        "id": "DpZ3M_FxOwxA",
        "outputId": "e104c5a4-ac05-4da5-91a9-6c57d43a4f64"
      },
      "execution_count": 14,
      "outputs": [
        {
          "output_type": "stream",
          "name": "stdout",
          "text": [
            "2\n"
          ]
        }
      ]
    }
  ]
}