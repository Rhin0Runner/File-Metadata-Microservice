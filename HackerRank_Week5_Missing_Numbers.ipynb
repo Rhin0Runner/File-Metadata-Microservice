{
  "nbformat": 4,
  "nbformat_minor": 0,
  "metadata": {
    "colab": {
      "provenance": [],
      "authorship_tag": "ABX9TyOdQuEEOcGmbcewmbAwRH6u",
      "include_colab_link": true
    },
    "kernelspec": {
      "name": "python3",
      "display_name": "Python 3"
    },
    "language_info": {
      "name": "python"
    }
  },
  "cells": [
    {
      "cell_type": "markdown",
      "metadata": {
        "id": "view-in-github",
        "colab_type": "text"
      },
      "source": [
        "<a href=\"https://colab.research.google.com/github/Rhin0Runner/File-Metadata-Microservice/blob/main/HackerRank_Week5_Missing_Numbers.ipynb\" target=\"_parent\"><img src=\"https://colab.research.google.com/assets/colab-badge.svg\" alt=\"Open In Colab\"/></a>"
      ]
    },
    {
      "cell_type": "code",
      "execution_count": 27,
      "metadata": {
        "id": "-wEgQpHMWiYN"
      },
      "outputs": [],
      "source": [
        "def missingNumbers(arr, brr):\n",
        "    arr.sort()\n",
        "    brr.sort()\n",
        "    missing = []\n",
        "    while len(arr) > 0:\n",
        "        if arr[0] == brr[0]:\n",
        "            del arr[0]\n",
        "            del brr[0]\n",
        "        else:\n",
        "            missing.append(brr[0])\n",
        "            del brr[0]\n",
        "\n",
        "    return missing"
      ]
    },
    {
      "cell_type": "code",
      "source": [
        "arr = [203, 204, 205, 206, 207, 208, 203, 204, 205, 206]\n",
        "brr = [203, 204, 204, 205, 206, 207, 205, 208, 203, 206, 205, 206, 204]\n",
        "print(missingNumbers(arr, brr))"
      ],
      "metadata": {
        "colab": {
          "base_uri": "https://localhost:8080/"
        },
        "id": "v8cXmcD2XiD2",
        "outputId": "e54eb716-89ff-4029-aeff-ddaf54eea1de"
      },
      "execution_count": 28,
      "outputs": [
        {
          "output_type": "stream",
          "name": "stdout",
          "text": [
            "[204, 205, 206]\n"
          ]
        }
      ]
    }
  ]
}