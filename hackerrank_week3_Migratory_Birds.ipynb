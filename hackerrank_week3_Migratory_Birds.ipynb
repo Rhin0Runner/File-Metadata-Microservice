{
  "nbformat": 4,
  "nbformat_minor": 0,
  "metadata": {
    "colab": {
      "provenance": [],
      "authorship_tag": "ABX9TyMN5Uu3eyBoSTNssju93x8K",
      "include_colab_link": true
    },
    "kernelspec": {
      "name": "python3",
      "display_name": "Python 3"
    },
    "language_info": {
      "name": "python"
    }
  },
  "cells": [
    {
      "cell_type": "markdown",
      "metadata": {
        "id": "view-in-github",
        "colab_type": "text"
      },
      "source": [
        "<a href=\"https://colab.research.google.com/github/Rhin0Runner/File-Metadata-Microservice/blob/main/hackerrank_week3_Migratory_Birds.ipynb\" target=\"_parent\"><img src=\"https://colab.research.google.com/assets/colab-badge.svg\" alt=\"Open In Colab\"/></a>"
      ]
    },
    {
      "cell_type": "code",
      "execution_count": 22,
      "metadata": {
        "id": "GSmKVTk6eUEY"
      },
      "outputs": [],
      "source": [
        "def migratoryBirds(arr):\n",
        "    one = []\n",
        "    two = []\n",
        "    three = []\n",
        "    four = []\n",
        "    five = []\n",
        "    for elem in arr:\n",
        "        if elem == 1:\n",
        "            one.append(elem)\n",
        "        elif elem == 2:\n",
        "            two.append(elem)\n",
        "        elif elem == 3:\n",
        "            three.append(elem)\n",
        "        elif elem == 4:\n",
        "            four.append(elem)\n",
        "        elif elem == 5:\n",
        "            five.append(elem)\n",
        "    repeats = [one, two, three, four, five]\n",
        "    max_length = 0\n",
        "    final_arr = []\n",
        "    for elem in repeats:\n",
        "        if len(elem) > max_length:\n",
        "            max_length = len(elem)\n",
        "    for elem in repeats:\n",
        "        if len(elem) == max_length:\n",
        "            final_arr.append(elem[0])\n",
        "    final_arr.sort()\n",
        "    return final_arr[0]"
      ]
    },
    {
      "cell_type": "code",
      "source": [
        "arr = [4,2,2,3,4]\n",
        "print(migratoryBirds(arr))"
      ],
      "metadata": {
        "colab": {
          "base_uri": "https://localhost:8080/"
        },
        "id": "BIDu1AZcegXp",
        "outputId": "f6111a21-28cb-4e8f-d8ad-6272a62223c9"
      },
      "execution_count": 23,
      "outputs": [
        {
          "output_type": "stream",
          "name": "stdout",
          "text": [
            "2\n"
          ]
        }
      ]
    }
  ]
}