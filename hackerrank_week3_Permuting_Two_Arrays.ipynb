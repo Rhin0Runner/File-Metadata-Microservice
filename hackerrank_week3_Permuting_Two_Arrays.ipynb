{
  "nbformat": 4,
  "nbformat_minor": 0,
  "metadata": {
    "colab": {
      "provenance": [],
      "authorship_tag": "ABX9TyMDQeV44hCyHroj+UCsyotZ",
      "include_colab_link": true
    },
    "kernelspec": {
      "name": "python3",
      "display_name": "Python 3"
    },
    "language_info": {
      "name": "python"
    }
  },
  "cells": [
    {
      "cell_type": "markdown",
      "metadata": {
        "id": "view-in-github",
        "colab_type": "text"
      },
      "source": [
        "<a href=\"https://colab.research.google.com/github/Rhin0Runner/File-Metadata-Microservice/blob/main/hackerrank_week3_Permuting_Two_Arrays.ipynb\" target=\"_parent\"><img src=\"https://colab.research.google.com/assets/colab-badge.svg\" alt=\"Open In Colab\"/></a>"
      ]
    },
    {
      "cell_type": "code",
      "execution_count": 19,
      "metadata": {
        "id": "0-CpU3958Unj"
      },
      "outputs": [],
      "source": [
        "def twoArrays(k, A, B):\n",
        "    # Write your code here\n",
        "    arr_len = len(A)\n",
        "    counter = 0\n",
        "    A.sort()\n",
        "    B.sort(reverse=True)\n",
        "    for i in range(arr_len):\n",
        "        if (A[i] + B[i]) >= k:\n",
        "            counter += 1\n",
        "    if counter == arr_len:\n",
        "        answer = 'YES'\n",
        "    else:\n",
        "        answer = 'NO'\n",
        "    return answer"
      ]
    },
    {
      "cell_type": "code",
      "source": [
        "A = [2, 1, 3]\n",
        "B = [7, 8, 9]\n",
        "k = 10\n",
        "print(twoArrays(k, A, B))"
      ],
      "metadata": {
        "colab": {
          "base_uri": "https://localhost:8080/"
        },
        "id": "EljoCUcSBTc0",
        "outputId": "2a8713ca-91e4-4e53-f18c-798d47cec972"
      },
      "execution_count": 16,
      "outputs": [
        {
          "output_type": "stream",
          "name": "stdout",
          "text": [
            "yes\n"
          ]
        }
      ]
    },
    {
      "cell_type": "code",
      "source": [
        "A = [1, 2, 2, 1]\n",
        "B = [3, 3, 3, 4]\n",
        "k = 5\n",
        "print(twoArrays(k, A, B))"
      ],
      "metadata": {
        "colab": {
          "base_uri": "https://localhost:8080/"
        },
        "id": "qSuegW4zB52s",
        "outputId": "2f96e64b-c09e-4512-972f-11c099269787"
      },
      "execution_count": 18,
      "outputs": [
        {
          "output_type": "stream",
          "name": "stdout",
          "text": [
            "no\n"
          ]
        }
      ]
    }
  ]
}