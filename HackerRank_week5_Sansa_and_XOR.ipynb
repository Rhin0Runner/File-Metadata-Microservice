{
  "nbformat": 4,
  "nbformat_minor": 0,
  "metadata": {
    "colab": {
      "provenance": [],
      "authorship_tag": "ABX9TyMOiLxuyOhOGuThMEHe/5P1",
      "include_colab_link": true
    },
    "kernelspec": {
      "name": "python3",
      "display_name": "Python 3"
    },
    "language_info": {
      "name": "python"
    }
  },
  "cells": [
    {
      "cell_type": "markdown",
      "metadata": {
        "id": "view-in-github",
        "colab_type": "text"
      },
      "source": [
        "<a href=\"https://colab.research.google.com/github/Rhin0Runner/File-Metadata-Microservice/blob/main/HackerRank_week5_Sansa_and_XOR.ipynb\" target=\"_parent\"><img src=\"https://colab.research.google.com/assets/colab-badge.svg\" alt=\"Open In Colab\"/></a>"
      ]
    },
    {
      "cell_type": "code",
      "execution_count": 17,
      "metadata": {
        "id": "GK5EFhlKXOxH"
      },
      "outputs": [],
      "source": [
        "from operator import xor\n",
        "\n",
        "def sansaXor(arr):\n",
        "    if len(arr) % 2 == 0:\n",
        "        return 0\n",
        "    result = 0\n",
        "    for i in range(0, len(arr), 2):\n",
        "        result ^= arr[i]\n",
        "    return result"
      ]
    },
    {
      "cell_type": "code",
      "source": [
        "arr = [3,4,5]\n",
        "print(sansaXor(arr))"
      ],
      "metadata": {
        "colab": {
          "base_uri": "https://localhost:8080/"
        },
        "id": "9kxFPMKLbHIY",
        "outputId": "0d548cdb-cf1a-40b8-f889-521c9121931e"
      },
      "execution_count": 18,
      "outputs": [
        {
          "output_type": "stream",
          "name": "stdout",
          "text": [
            "6\n"
          ]
        }
      ]
    }
  ]
}