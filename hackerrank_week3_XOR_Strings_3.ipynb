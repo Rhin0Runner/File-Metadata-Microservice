{
  "nbformat": 4,
  "nbformat_minor": 0,
  "metadata": {
    "colab": {
      "provenance": [],
      "authorship_tag": "ABX9TyM71fTd8SD8T/u3FYunhDEF",
      "include_colab_link": true
    },
    "kernelspec": {
      "name": "python3",
      "display_name": "Python 3"
    },
    "language_info": {
      "name": "python"
    }
  },
  "cells": [
    {
      "cell_type": "markdown",
      "metadata": {
        "id": "view-in-github",
        "colab_type": "text"
      },
      "source": [
        "<a href=\"https://colab.research.google.com/github/Rhin0Runner/File-Metadata-Microservice/blob/main/hackerrank_week3_XOR_Strings_3.ipynb\" target=\"_parent\"><img src=\"https://colab.research.google.com/assets/colab-badge.svg\" alt=\"Open In Colab\"/></a>"
      ]
    },
    {
      "cell_type": "code",
      "execution_count": 8,
      "metadata": {
        "id": "vgl2SmV8d7zB"
      },
      "outputs": [],
      "source": [
        "def strings_xor(s, t):\n",
        "    res = \"\"\n",
        "    for i in range(len(s)):\n",
        "        if s[i] == t[i]:\n",
        "            res += '0';\n",
        "        else:\n",
        "            res += '1';\n",
        "\n",
        "    return res\n"
      ]
    },
    {
      "cell_type": "code",
      "source": [
        "s = \"10101\"\n",
        "t = \"00101\"\n",
        "print(strings_xor(s, t))"
      ],
      "metadata": {
        "colab": {
          "base_uri": "https://localhost:8080/"
        },
        "id": "gAFcYd_ug5Tz",
        "outputId": "c9108be2-bd5f-403c-892b-844caece16c4"
      },
      "execution_count": 9,
      "outputs": [
        {
          "output_type": "stream",
          "name": "stdout",
          "text": [
            "10000\n"
          ]
        }
      ]
    }
  ]
}