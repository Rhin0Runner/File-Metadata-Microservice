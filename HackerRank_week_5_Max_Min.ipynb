{
  "nbformat": 4,
  "nbformat_minor": 0,
  "metadata": {
    "colab": {
      "provenance": [],
      "authorship_tag": "ABX9TyOy17K2xJ97ICBT5BWsTXhU",
      "include_colab_link": true
    },
    "kernelspec": {
      "name": "python3",
      "display_name": "Python 3"
    },
    "language_info": {
      "name": "python"
    }
  },
  "cells": [
    {
      "cell_type": "markdown",
      "metadata": {
        "id": "view-in-github",
        "colab_type": "text"
      },
      "source": [
        "<a href=\"https://colab.research.google.com/github/Rhin0Runner/File-Metadata-Microservice/blob/main/HackerRank_week_5_Max_Min.ipynb\" target=\"_parent\"><img src=\"https://colab.research.google.com/assets/colab-badge.svg\" alt=\"Open In Colab\"/></a>"
      ]
    },
    {
      "cell_type": "code",
      "execution_count": 22,
      "metadata": {
        "id": "MPB-PEhSBN_u"
      },
      "outputs": [],
      "source": [
        "def maxMin(k, arr):\n",
        "    arr.sort()\n",
        "    arrs = list(combinations(arr, k))\n",
        "    minimum = max(arrs[0]) - min(arrs[0])\n",
        "    for item in arrs:\n",
        "        sample = max(item) - min(item)\n",
        "        if sample < minimum:\n",
        "            minimum = sample\n",
        "    return minimum"
      ]
    },
    {
      "cell_type": "code",
      "source": [
        "arr = [1,4,7,2]\n",
        "k = 2\n",
        "print(maxMin(k, arr))"
      ],
      "metadata": {
        "colab": {
          "base_uri": "https://localhost:8080/"
        },
        "id": "brsJl9wLBSEI",
        "outputId": "a0418b63-0251-49e7-ce60-6e9ef402966d"
      },
      "execution_count": 23,
      "outputs": [
        {
          "output_type": "stream",
          "name": "stdout",
          "text": [
            "1\n"
          ]
        }
      ]
    },
    {
      "cell_type": "code",
      "source": [
        "arr = [1,2,3,4,10,20,30,40,100,200]\n",
        "k = 4\n",
        "print(maxMin(k, arr))"
      ],
      "metadata": {
        "colab": {
          "base_uri": "https://localhost:8080/"
        },
        "id": "BXFM557ACj45",
        "outputId": "92407fff-4fc5-444a-d988-3e5e2e63169c"
      },
      "execution_count": 24,
      "outputs": [
        {
          "output_type": "stream",
          "name": "stdout",
          "text": [
            "3\n"
          ]
        }
      ]
    }
  ]
}