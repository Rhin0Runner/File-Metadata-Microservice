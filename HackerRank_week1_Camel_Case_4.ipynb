{
  "nbformat": 4,
  "nbformat_minor": 0,
  "metadata": {
    "colab": {
      "provenance": [],
      "authorship_tag": "ABX9TyPI4+wO8KBoFOmz7JzOzKru",
      "include_colab_link": true
    },
    "kernelspec": {
      "name": "python3",
      "display_name": "Python 3"
    },
    "language_info": {
      "name": "python"
    }
  },
  "cells": [
    {
      "cell_type": "markdown",
      "metadata": {
        "id": "view-in-github",
        "colab_type": "text"
      },
      "source": [
        "<a href=\"https://colab.research.google.com/github/Rhin0Runner/File-Metadata-Microservice/blob/main/HackerRank_week1_Camel_Case_4.ipynb\" target=\"_parent\"><img src=\"https://colab.research.google.com/assets/colab-badge.svg\" alt=\"Open In Colab\"/></a>"
      ]
    },
    {
      "cell_type": "code",
      "execution_count": null,
      "metadata": {
        "colab": {
          "base_uri": "https://localhost:8080/"
        },
        "id": "q2BHpEFIpPWz",
        "outputId": "d118fa4f-b4a5-4a8a-b8ee-241a8f3bbf09"
      },
      "outputs": [
        {
          "output_type": "stream",
          "name": "stdout",
          "text": [
            "C;M;mouse pad\n",
            "mousePad()\n"
          ]
        }
      ],
      "source": [
        "import re\n",
        "while True:\n",
        "    try:\n",
        "        s = input().rstrip()\n",
        "        sc, mcv, op = s.split(\";\")\n",
        "        if sc == \"S\":\n",
        "            if mcv == \"M\":\n",
        "                cap = op[:-2]\n",
        "\n",
        "            if mcv == \"C\" or mcv == \"V\":\n",
        "                cap = op\n",
        "\n",
        "            s = re.sub (\"(\\w)([A-Z])\", r\"\\1 \\2\", cap)\n",
        "            print (s.lower())\n",
        "\n",
        "        if sc == \"C\":\n",
        "            cap = op.title ()\n",
        "            s = re.sub (r\" \", r\"\", cap)\n",
        "            q = s[:1].lower() + s[1:]\n",
        "\n",
        "            if mcv == \"M\":\n",
        "                print (q+\"()\")\n",
        "\n",
        "            if mcv == \"C\":\n",
        "                print (s)\n",
        "\n",
        "            if mcv == \"V\":\n",
        "                print (q)\n",
        "\n",
        "    except EOFError:\n",
        "        break"
      ]
    }
  ]
}