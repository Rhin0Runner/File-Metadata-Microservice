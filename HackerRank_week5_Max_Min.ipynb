{
  "nbformat": 4,
  "nbformat_minor": 0,
  "metadata": {
    "colab": {
      "provenance": [],
      "authorship_tag": "ABX9TyNaTRz59trO7SAmdyeMLd9a",
      "include_colab_link": true
    },
    "kernelspec": {
      "name": "python3",
      "display_name": "Python 3"
    },
    "language_info": {
      "name": "python"
    }
  },
  "cells": [
    {
      "cell_type": "markdown",
      "metadata": {
        "id": "view-in-github",
        "colab_type": "text"
      },
      "source": [
        "<a href=\"https://colab.research.google.com/github/Rhin0Runner/File-Metadata-Microservice/blob/main/HackerRank_week5_Max_Min.ipynb\" target=\"_parent\"><img src=\"https://colab.research.google.com/assets/colab-badge.svg\" alt=\"Open In Colab\"/></a>"
      ]
    },
    {
      "cell_type": "code",
      "execution_count": 1,
      "metadata": {
        "id": "7mGKzPfP4XLR"
      },
      "outputs": [],
      "source": [
        "def maxMin(k, arr):\n",
        "    # Write your code here\n",
        "    arr.sort()\n",
        "    min_diff = sys.maxsize\n",
        "    for i in range(n-k+1):\n",
        "        min_diff = min(min_diff, arr[i+k-1] - arr[i])\n",
        "    return min_diff"
      ]
    }
  ]
}