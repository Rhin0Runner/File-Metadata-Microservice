{
  "nbformat": 4,
  "nbformat_minor": 0,
  "metadata": {
    "colab": {
      "provenance": [],
      "authorship_tag": "ABX9TyO+VU8RcQrc55H727wpAbqD",
      "include_colab_link": true
    },
    "kernelspec": {
      "name": "python3",
      "display_name": "Python 3"
    },
    "language_info": {
      "name": "python"
    }
  },
  "cells": [
    {
      "cell_type": "markdown",
      "metadata": {
        "id": "view-in-github",
        "colab_type": "text"
      },
      "source": [
        "<a href=\"https://colab.research.google.com/github/Rhin0Runner/File-Metadata-Microservice/blob/main/HackerRank_week6_Sherlock_and_Array.ipynb\" target=\"_parent\"><img src=\"https://colab.research.google.com/assets/colab-badge.svg\" alt=\"Open In Colab\"/></a>"
      ]
    },
    {
      "cell_type": "code",
      "execution_count": 59,
      "metadata": {
        "id": "98ziQIEtX0L6"
      },
      "outputs": [],
      "source": [
        "def balancedSums(arr):\n",
        "    # Write your code here\n",
        "    right = sum(arr)\n",
        "    left = 0\n",
        "    for num in arr:\n",
        "        right -= num\n",
        "        if left == right:\n",
        "            return 'YES'\n",
        "        left += num\n",
        "\n",
        "    return 'NO'"
      ]
    },
    {
      "cell_type": "code",
      "source": [
        "arr = [1, 2, 3]\n",
        "print(balancedSums(arr))"
      ],
      "metadata": {
        "colab": {
          "base_uri": "https://localhost:8080/"
        },
        "id": "kq3FrrnDYA3f",
        "outputId": "eb71faf2-1098-43cd-d43a-cef3502b704e"
      },
      "execution_count": 60,
      "outputs": [
        {
          "output_type": "stream",
          "name": "stdout",
          "text": [
            "NO\n"
          ]
        }
      ]
    },
    {
      "cell_type": "code",
      "source": [
        "arr = [1, 3, 3]\n",
        "print(balancedSums(arr))"
      ],
      "metadata": {
        "colab": {
          "base_uri": "https://localhost:8080/"
        },
        "id": "rFmpWBVvYjL2",
        "outputId": "afbe33b4-18f6-466a-a874-603949c7da31"
      },
      "execution_count": 61,
      "outputs": [
        {
          "output_type": "stream",
          "name": "stdout",
          "text": [
            "NO\n"
          ]
        }
      ]
    },
    {
      "cell_type": "code",
      "source": [
        "arr = [1, 1, 4, 1, 1]\n",
        "print(balancedSums(arr))"
      ],
      "metadata": {
        "colab": {
          "base_uri": "https://localhost:8080/"
        },
        "id": "3gPJZ4W1YPiW",
        "outputId": "f0251505-136f-4059-8bf5-6e2d7c04806d"
      },
      "execution_count": 62,
      "outputs": [
        {
          "output_type": "stream",
          "name": "stdout",
          "text": [
            "YES\n"
          ]
        }
      ]
    },
    {
      "cell_type": "code",
      "source": [
        "arr = [2,0,0,0]\n",
        "print(balancedSums(arr))"
      ],
      "metadata": {
        "colab": {
          "base_uri": "https://localhost:8080/"
        },
        "id": "13OovqEwbGoX",
        "outputId": "ac356e6d-a52a-49e8-bab2-d501befd26a5"
      },
      "execution_count": 63,
      "outputs": [
        {
          "output_type": "stream",
          "name": "stdout",
          "text": [
            "YES\n"
          ]
        }
      ]
    }
  ]
}