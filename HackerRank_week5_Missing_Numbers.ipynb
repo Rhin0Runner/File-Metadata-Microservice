{
  "nbformat": 4,
  "nbformat_minor": 0,
  "metadata": {
    "colab": {
      "provenance": [],
      "authorship_tag": "ABX9TyPf7E0JDcLrTNU/VqaI+5vl",
      "include_colab_link": true
    },
    "kernelspec": {
      "name": "python3",
      "display_name": "Python 3"
    },
    "language_info": {
      "name": "python"
    }
  },
  "cells": [
    {
      "cell_type": "markdown",
      "metadata": {
        "id": "view-in-github",
        "colab_type": "text"
      },
      "source": [
        "<a href=\"https://colab.research.google.com/github/Rhin0Runner/File-Metadata-Microservice/blob/main/HackerRank_week5_Missing_Numbers.ipynb\" target=\"_parent\"><img src=\"https://colab.research.google.com/assets/colab-badge.svg\" alt=\"Open In Colab\"/></a>"
      ]
    },
    {
      "cell_type": "code",
      "execution_count": 43,
      "metadata": {
        "id": "DBz937KJZ-XX"
      },
      "outputs": [],
      "source": [
        "from collections import Counter\n",
        "def missingNumbers(arr, brr):\n",
        "    dict1 = Counter(arr)\n",
        "    dict2 = Counter(brr)\n",
        "    dicts_diff = dict2 - dict1\n",
        "    return sorted(dicts_diff.keys())"
      ]
    },
    {
      "cell_type": "code",
      "source": [
        "arr = [203, 204, 205, 206, 207, 208, 203, 204, 205, 206]\n",
        "brr = [203, 204, 204, 205, 206, 207, 205, 208, 203, 206, 205, 206, 204]\n",
        "print(missingNumbers(arr, brr))"
      ],
      "metadata": {
        "colab": {
          "base_uri": "https://localhost:8080/"
        },
        "id": "5EKLf5XmabE7",
        "outputId": "c297bf72-b83f-4e23-c5a0-cac3f1877e4d"
      },
      "execution_count": 44,
      "outputs": [
        {
          "output_type": "stream",
          "name": "stdout",
          "text": [
            "[204, 205, 206]\n"
          ]
        }
      ]
    },
    {
      "cell_type": "code",
      "source": [
        "arr = [11, 4, 11, 7, 13, 4, 12, 11, 10, 14]\n",
        "brr = [11, 4, 11, 7, 3, 7, 10, 13, 4, 8, 12, 11, 10, 14, 12]\n",
        "print(missingNumbers(arr, brr))"
      ],
      "metadata": {
        "colab": {
          "base_uri": "https://localhost:8080/"
        },
        "id": "UjtfoBCge9eq",
        "outputId": "1a47eadf-dd9b-472e-b5d8-8e45f77a7656"
      },
      "execution_count": 45,
      "outputs": [
        {
          "output_type": "stream",
          "name": "stdout",
          "text": [
            "[3, 7, 8, 10, 12]\n"
          ]
        }
      ]
    }
  ]
}