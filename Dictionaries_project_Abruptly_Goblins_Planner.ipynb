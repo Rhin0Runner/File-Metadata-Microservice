{
  "cells": [
    {
      "cell_type": "markdown",
      "metadata": {
        "id": "view-in-github",
        "colab_type": "text"
      },
      "source": [
        "<a href=\"https://colab.research.google.com/github/Rhin0Runner/File-Metadata-Microservice/blob/main/Dictionaries_project_Abruptly_Goblins_Planner.ipynb\" target=\"_parent\"><img src=\"https://colab.research.google.com/assets/colab-badge.svg\" alt=\"Open In Colab\"/></a>"
      ]
    },
    {
      "cell_type": "markdown",
      "metadata": {
        "id": "sHPItOhexRTE"
      },
      "source": [
        "# Introduction\n",
        "\n",
        "Opening your comic book store, the Sorcery Society, has been a lifelong dream come true. You quickly diversified your shop offerings to include miniatures, plush toys, collectible card games, and board games. Eventually, the store became more a games store with a selection of this week's newest comic books and a small offering of graphic novel paperbacks. Completing your transformation means offering space for local tabletop gamers. They love to play their favorite RPG, \"Abruptly Goblins!\" and will happily pay you per chair to secure the space to do it. Unfortunately, planning the game night has fallen to you. If you pick the wrong night, not enough people will come and the game night will be cancelled. You decide it's best that you automate the game night selector to get the most people through the door. First you need to create a list of people who will be attending the game night.\n",
        "\n",
        "**Instructions**\n",
        "\n",
        "Create an empty list called `gamers`. This will be your list of people who are attending game night."
      ]
    },
    {
      "cell_type": "code",
      "execution_count": 2,
      "metadata": {
        "id": "LZpCSzcOxRTF"
      },
      "outputs": [],
      "source": [
        "gamers = []"
      ]
    },
    {
      "cell_type": "markdown",
      "metadata": {
        "id": "0IByT3t-xRTF"
      },
      "source": [
        "Now we want to create a function that will update this list and add a new gamer to the this `gamers` list. Each `gamer` should be a dictionary with the following keys:\n",
        " - `\"name\"`: a string that contains the gamer's full or presumed name. E.g., \"Vicky Very\"\n",
        " - `\"availability\"`: a list of strings containing the names of the days of the week that the gamer is available. E.g., [\"Monday\", \"Thursday\", \"Sunday\"]\n",
        "\n",
        "**Instructions**\n",
        "\n",
        "Create a function called `add_gamer` that takes two parameters: `gamer` and `gamers_list`. The function should check that the argument passed to the `gamer` parameter has both `\"name\"` and a `\"availability\"` as keys and if so add `gamer` to `gamers_list`."
      ]
    },
    {
      "cell_type": "code",
      "execution_count": 3,
      "metadata": {
        "id": "smeq6t4qxRTG"
      },
      "outputs": [],
      "source": [
        "def add_gamer(gamer, gamers_list):\n",
        "    if 'name' in gamer and 'availability' in gamer:\n",
        "        gamers_list.append(gamer)"
      ]
    },
    {
      "cell_type": "markdown",
      "metadata": {
        "id": "WEYMKfMsxRTG"
      },
      "source": [
        "Next we want to add our first gamer! Her name is Kimberly Warner and she's available on Mondays, Tuesdays, and Fridays.\n",
        "\n",
        "**Instructions**\n",
        "\n",
        "1. Create a dictionary called `kimberly` with the name and availability given above.\n",
        "2. Call `add_gamer` with `kimberly` as the first argument and `gamers` as the second."
      ]
    },
    {
      "cell_type": "code",
      "execution_count": 4,
      "metadata": {
        "id": "DJGIm2jLxRTG"
      },
      "outputs": [],
      "source": [
        "kimberly = {'name': 'Kimberly', 'availability': ['Monday', 'Tuesday', 'Friday']}"
      ]
    },
    {
      "cell_type": "code",
      "source": [
        "add_gamer(kimberly, gamers)"
      ],
      "metadata": {
        "id": "j1E4l8WwD5kT"
      },
      "execution_count": 5,
      "outputs": []
    },
    {
      "cell_type": "code",
      "source": [
        "gamers"
      ],
      "metadata": {
        "colab": {
          "base_uri": "https://localhost:8080/"
        },
        "id": "njREE0KAEBBX",
        "outputId": "80ab3bef-2a7a-4717-ce80-cbd0697649c7"
      },
      "execution_count": 6,
      "outputs": [
        {
          "output_type": "execute_result",
          "data": {
            "text/plain": [
              "[{'name': 'Kimberly', 'availability': ['Monday', 'Tuesday', 'Friday']}]"
            ]
          },
          "metadata": {},
          "execution_count": 6
        }
      ]
    },
    {
      "cell_type": "markdown",
      "metadata": {
        "id": "PiwSdb19xRTG"
      },
      "source": [
        "Great! Let's add a couple more gamers to the list!"
      ]
    },
    {
      "cell_type": "code",
      "execution_count": 7,
      "metadata": {
        "id": "55T3EBw-xRTG"
      },
      "outputs": [],
      "source": [
        "add_gamer({'name':'Thomas Nelson','availability': [\"Tuesday\", \"Thursday\", \"Saturday\"]}, gamers)\n",
        "add_gamer({'name':'Joyce Sellers','availability': [\"Monday\", \"Wednesday\", \"Friday\", \"Saturday\"]}, gamers)\n",
        "add_gamer({'name':'Michelle Reyes','availability': [\"Wednesday\", \"Thursday\", \"Sunday\"]}, gamers)\n",
        "add_gamer({'name':'Stephen Adams','availability': [\"Thursday\", \"Saturday\"]}, gamers)\n",
        "add_gamer({'name': 'Joanne Lynn', 'availability': [\"Monday\", \"Thursday\"]}, gamers)\n",
        "add_gamer({'name':'Latasha Bryan','availability': [\"Monday\", \"Sunday\"]}, gamers)\n",
        "add_gamer({'name':'Crystal Brewer','availability': [\"Thursday\", \"Friday\", \"Saturday\"]}, gamers)\n",
        "add_gamer({'name':'James Barnes Jr.','availability': [\"Tuesday\", \"Wednesday\", \"Thursday\", \"Sunday\"]}, gamers)\n",
        "add_gamer({'name':'Michel Trujillo','availability': [\"Monday\", \"Tuesday\", \"Wednesday\"]}, gamers)"
      ]
    },
    {
      "cell_type": "code",
      "source": [
        "gamers"
      ],
      "metadata": {
        "colab": {
          "base_uri": "https://localhost:8080/"
        },
        "id": "kWdHUfhWEJzn",
        "outputId": "ccd7b8f8-5434-49ab-bdf7-cf323058137d"
      },
      "execution_count": 8,
      "outputs": [
        {
          "output_type": "execute_result",
          "data": {
            "text/plain": [
              "[{'name': 'Kimberly', 'availability': ['Monday', 'Tuesday', 'Friday']},\n",
              " {'name': 'Thomas Nelson',\n",
              "  'availability': ['Tuesday', 'Thursday', 'Saturday']},\n",
              " {'name': 'Joyce Sellers',\n",
              "  'availability': ['Monday', 'Wednesday', 'Friday', 'Saturday']},\n",
              " {'name': 'Michelle Reyes',\n",
              "  'availability': ['Wednesday', 'Thursday', 'Sunday']},\n",
              " {'name': 'Stephen Adams', 'availability': ['Thursday', 'Saturday']},\n",
              " {'name': 'Joanne Lynn', 'availability': ['Monday', 'Thursday']},\n",
              " {'name': 'Latasha Bryan', 'availability': ['Monday', 'Sunday']},\n",
              " {'name': 'Crystal Brewer',\n",
              "  'availability': ['Thursday', 'Friday', 'Saturday']},\n",
              " {'name': 'James Barnes Jr.',\n",
              "  'availability': ['Tuesday', 'Wednesday', 'Thursday', 'Sunday']},\n",
              " {'name': 'Michel Trujillo',\n",
              "  'availability': ['Monday', 'Tuesday', 'Wednesday']}]"
            ]
          },
          "metadata": {},
          "execution_count": 8
        }
      ]
    },
    {
      "cell_type": "markdown",
      "metadata": {
        "id": "WONC1JMCxRTG"
      },
      "source": [
        "## Finding the perfect availability\n",
        "\n",
        "Now that we have a list of all of the people interested in game night, we want to be able to calculate which nights would have the most participation. First we need to create a frequency table which correlates each day of the week with gamer availability.\n",
        "\n",
        "**Instructions**\n",
        "\n",
        "Create a function called `build_daily_frequency_table` that takes no argument returns a dictionary with the days of the week as keys and `0`s for values. We'll be using this to count the availability per night. Call `build_daily_frequency_table` and save the results to a variable called `count_availability`."
      ]
    },
    {
      "cell_type": "code",
      "execution_count": 9,
      "metadata": {
        "id": "1ZMMbjLoxRTH"
      },
      "outputs": [],
      "source": [
        "def build_daily_frequency_table():\n",
        "    return {'Monday': 0, 'Tuesday': 0, 'Wednesday': 0, 'Thursday': 0, 'Friday': 0, 'Saturday': 0, 'Sunday': 0}"
      ]
    },
    {
      "cell_type": "code",
      "source": [
        "count_availability = build_daily_frequency_table()"
      ],
      "metadata": {
        "id": "ebubTQV0GhFq"
      },
      "execution_count": 10,
      "outputs": []
    },
    {
      "cell_type": "code",
      "source": [
        "count_availability"
      ],
      "metadata": {
        "colab": {
          "base_uri": "https://localhost:8080/"
        },
        "id": "iVvKvrYSGo4J",
        "outputId": "04cc0583-8a08-4dc6-b77b-d8c6d5e98f90"
      },
      "execution_count": 11,
      "outputs": [
        {
          "output_type": "execute_result",
          "data": {
            "text/plain": [
              "{'Monday': 0,\n",
              " 'Tuesday': 0,\n",
              " 'Wednesday': 0,\n",
              " 'Thursday': 0,\n",
              " 'Friday': 0,\n",
              " 'Saturday': 0,\n",
              " 'Sunday': 0}"
            ]
          },
          "metadata": {},
          "execution_count": 11
        }
      ]
    },
    {
      "cell_type": "markdown",
      "metadata": {
        "id": "6oEwcHWnxRTH"
      },
      "source": [
        "Next we need to count the number of people every night.\n",
        "\n",
        "**Instructions**\n",
        "\n",
        "Write a function called `calculate_availability` that takes a list of gamers as an argument `gamers_list` and a frequency table `available_frequency`. The function should iterate through each gamer in `gamers_list` and iterate through each day in the gamer's availability. For each day in the gamer's availability, add one to that date on the frequency table."
      ]
    },
    {
      "cell_type": "code",
      "execution_count": 12,
      "metadata": {
        "id": "sqHiSsBwxRTH"
      },
      "outputs": [],
      "source": [
        "def calculate_availability(gamers_list, available_frequency):\n",
        "    for gamer in gamers_list:\n",
        "        for day in gamer['availability']:\n",
        "            count_availability[day] += 1"
      ]
    },
    {
      "cell_type": "markdown",
      "metadata": {
        "id": "X-t-_97cxRTH"
      },
      "source": [
        "Now let's use these tools to find the best night to run Abruptly Goblins!\n",
        "\n",
        "**Instructions**\n",
        "\n",
        "Call `calculate_availability` with `gamers` and `count_availability`. Print out `count_availability` afterwards."
      ]
    },
    {
      "cell_type": "code",
      "execution_count": 13,
      "metadata": {
        "scrolled": true,
        "id": "6V9bHSVgxRTH"
      },
      "outputs": [],
      "source": [
        "calculate_availability(gamers, count_availability)"
      ]
    },
    {
      "cell_type": "code",
      "source": [
        "print(count_availability)"
      ],
      "metadata": {
        "colab": {
          "base_uri": "https://localhost:8080/"
        },
        "id": "CGFYGSEPKMiP",
        "outputId": "0b41b301-c8e1-4e79-b4fc-96ea43c1f651"
      },
      "execution_count": 14,
      "outputs": [
        {
          "output_type": "stream",
          "name": "stdout",
          "text": [
            "{'Monday': 5, 'Tuesday': 4, 'Wednesday': 4, 'Thursday': 6, 'Friday': 3, 'Saturday': 4, 'Sunday': 3}\n"
          ]
        }
      ]
    },
    {
      "cell_type": "markdown",
      "metadata": {
        "id": "XHTYo34qxRTH"
      },
      "source": [
        "Lastly we need a way to pick the day with the most available people to attend so that we can schedule game night on that night.\n",
        "\n",
        "**Instructions**\n",
        "\n",
        "Write a function `find_best_night` that takes a dictionary `availability_table` and returns the key with the highest number."
      ]
    },
    {
      "cell_type": "code",
      "execution_count": 15,
      "metadata": {
        "id": "vz80NsmrxRTH"
      },
      "outputs": [],
      "source": [
        "def find_best_night(availability_table):\n",
        "    max_num = max(count_availability.values())\n",
        "    return [key for key in count_availability if count_availability[key] == max_num][0]"
      ]
    },
    {
      "cell_type": "markdown",
      "metadata": {
        "id": "7SBY521dxRTI"
      },
      "source": [
        "Now let's find the best day to host game night.\n",
        "\n",
        "**Instructions**\n",
        "\n",
        "Call `find_best_night` with `count_availability`, store the result in a variable called `game_night`.\n",
        "Print out `game_night` to find out which day it is."
      ]
    },
    {
      "cell_type": "code",
      "source": [
        "game_night = find_best_night(count_availability)"
      ],
      "metadata": {
        "id": "H-ngladJuoDP"
      },
      "execution_count": 16,
      "outputs": []
    },
    {
      "cell_type": "code",
      "source": [
        "print(game_night)"
      ],
      "metadata": {
        "colab": {
          "base_uri": "https://localhost:8080/"
        },
        "id": "lXj2OyBkuv7F",
        "outputId": "6e6718bf-ef29-44a5-d78d-d7db52283fb2"
      },
      "execution_count": 17,
      "outputs": [
        {
          "output_type": "stream",
          "name": "stdout",
          "text": [
            "Thursday\n"
          ]
        }
      ]
    },
    {
      "cell_type": "markdown",
      "metadata": {
        "id": "rYPWqZk1xRTI"
      },
      "source": [
        "And let's make a list of all of the people who are available that night.\n",
        "\n",
        "**Instructions**\n",
        "\n",
        "* Create a function `available_on_night` that takes two parameters: `gamers_list` and `day` and returns a list of people who are available on that particular day.\n",
        "* Call `available_on_night` with `gamers` and `game_night` and save the result into the variable `attending_game_night`.\n",
        "* Print `attending_game_night`."
      ]
    },
    {
      "cell_type": "code",
      "execution_count": 18,
      "metadata": {
        "id": "gvfp_vPHxRTI"
      },
      "outputs": [],
      "source": [
        "def available_on_night(gamers_list, day):\n",
        "    gamers_available = []\n",
        "    for gamer in gamers_list:\n",
        "        if day in gamer['availability']:\n",
        "            gamers_available.append(gamer['name'])\n",
        "    return gamers_available\n"
      ]
    },
    {
      "cell_type": "code",
      "source": [
        "attending_game_night = available_on_night(gamers, game_night)"
      ],
      "metadata": {
        "id": "s4JyDw3axcLd"
      },
      "execution_count": 19,
      "outputs": []
    },
    {
      "cell_type": "code",
      "source": [
        "print(attending_game_night)"
      ],
      "metadata": {
        "colab": {
          "base_uri": "https://localhost:8080/"
        },
        "id": "Wfb7vrYjxqGU",
        "outputId": "666d1ef6-142a-4a28-ad4e-a2b86a720b6d"
      },
      "execution_count": 20,
      "outputs": [
        {
          "output_type": "stream",
          "name": "stdout",
          "text": [
            "['Thomas Nelson', 'Michelle Reyes', 'Stephen Adams', 'Joanne Lynn', 'Crystal Brewer', 'James Barnes Jr.']\n"
          ]
        }
      ]
    },
    {
      "cell_type": "markdown",
      "metadata": {
        "id": "rzh9uAOcxRTI"
      },
      "source": [
        "## Generating an E-mail for the Participants\n",
        "\n",
        "With the best day for Abruptly Goblins! determined with computer precision, we need to let the attendees know that the game night is on a night they can attend. Let's start by creating a form email to send to each of the participants that we'll fill out with data later.\n",
        "\n",
        "**Instructions**\n",
        "\n",
        "Define a string, called `form_email` with interpolation variables `{name}`, `{day_of_week}`, and `{game}` (in case we decide we want to use this featureset to host a different game night). Use it to tell your gaming attendees the night their Abruptly Goblins! game can be played."
      ]
    },
    {
      "cell_type": "code",
      "execution_count": 21,
      "metadata": {
        "id": "YTVjTpqYxRTI"
      },
      "outputs": [],
      "source": [
        "game = 'Abruptly Goblins'\n",
        "form_email = \"Hello, {}! I'm glad to inform that our {} will be taing place on {}s! See you there!\".format(attending_game_night, game, game_night)"
      ]
    },
    {
      "cell_type": "code",
      "source": [
        "print(form_email)"
      ],
      "metadata": {
        "colab": {
          "base_uri": "https://localhost:8080/"
        },
        "id": "vC2Q9HI71HUQ",
        "outputId": "608c5fd3-3ad5-445a-9ea3-54f5c858f992"
      },
      "execution_count": 22,
      "outputs": [
        {
          "output_type": "stream",
          "name": "stdout",
          "text": [
            "Hello, ['Thomas Nelson', 'Michelle Reyes', 'Stephen Adams', 'Joanne Lynn', 'Crystal Brewer', 'James Barnes Jr.']! I'm glad to inform that our Abruptly Goblins will be taing place on Thursdays! See you there!\n"
          ]
        }
      ]
    },
    {
      "cell_type": "markdown",
      "metadata": {
        "id": "HvvNZf45xRTI"
      },
      "source": [
        "**Instructions**\n",
        "\n",
        "Create a function `send_email` with three parameters: `gamers_who_can_attend`, `day`, and `game`. Print `form_email` for each gamer in `gamers_who_can_attend` with the appropriate `day` and `game`.\n",
        "Call `send_email` with `attending_game_night`, `game_night`, and `\"Abruptly Goblins!\"`."
      ]
    },
    {
      "cell_type": "code",
      "execution_count": 23,
      "metadata": {
        "id": "PaCKdC2CxRTI"
      },
      "outputs": [],
      "source": [
        "def send_mail(gamers_who_can_attend, day, game):\n",
        "    for gamer in gamers_who_can_attend:\n",
        "        print(\"Hello, {}! I'm glad to inform that our {} will be taing place on {}s! See you there!\".format(gamer, game, day))"
      ]
    },
    {
      "cell_type": "code",
      "source": [
        "send_mail(attending_game_night, game, game_night)"
      ],
      "metadata": {
        "colab": {
          "base_uri": "https://localhost:8080/"
        },
        "id": "-iBuuJK_IFkA",
        "outputId": "25a0eb86-aa83-4c87-c71c-b4c42e743ce0"
      },
      "execution_count": 24,
      "outputs": [
        {
          "output_type": "stream",
          "name": "stdout",
          "text": [
            "Hello, Thomas Nelson! I'm glad to inform that our Thursday will be taing place on Abruptly Goblinss! See you there!\n",
            "Hello, Michelle Reyes! I'm glad to inform that our Thursday will be taing place on Abruptly Goblinss! See you there!\n",
            "Hello, Stephen Adams! I'm glad to inform that our Thursday will be taing place on Abruptly Goblinss! See you there!\n",
            "Hello, Joanne Lynn! I'm glad to inform that our Thursday will be taing place on Abruptly Goblinss! See you there!\n",
            "Hello, Crystal Brewer! I'm glad to inform that our Thursday will be taing place on Abruptly Goblinss! See you there!\n",
            "Hello, James Barnes Jr.! I'm glad to inform that our Thursday will be taing place on Abruptly Goblinss! See you there!\n"
          ]
        }
      ]
    },
    {
      "cell_type": "markdown",
      "metadata": {
        "id": "n6l2x8_VxRTI"
      },
      "source": [
        "### Afterward\n",
        "\n",
        "You feel bad for the folks who weren't able to attend on the decided upon game night, and try to use your currently written methods to have a second game night of the week.\n",
        "\n",
        "**Instructions**\n",
        "\n",
        "* Create a list `unable_to_attend_best_night` of everyone in `gamers` that wasn't able to attend game night on `game_night`.\n",
        "* Create `second_night_availability` frequency table by calling `build_daily_frequency_table`.\n",
        "* Call `calculate_availability` with `unable_to_attend_best_night` and `second_night_availability`.\n",
        "* Call `find_best_night` with the now filled-in `second_night_availability`, save the results in `second_night`.\n"
      ]
    },
    {
      "cell_type": "code",
      "execution_count": 25,
      "metadata": {
        "id": "g3PNnMMuxRTI"
      },
      "outputs": [],
      "source": [
        "unable_to_attend_best_night = []\n",
        "for gamer in gamers:\n",
        "    if gamer['name'] not in attending_game_night:\n",
        "        unable_to_attend_best_night.append(gamer)"
      ]
    },
    {
      "cell_type": "code",
      "source": [
        "unable_to_attend_best_night"
      ],
      "metadata": {
        "colab": {
          "base_uri": "https://localhost:8080/"
        },
        "id": "ZgI2ROXgLdH5",
        "outputId": "ae810d72-cabc-4fb7-b136-85ebecc81845"
      },
      "execution_count": 26,
      "outputs": [
        {
          "output_type": "execute_result",
          "data": {
            "text/plain": [
              "[{'name': 'Kimberly', 'availability': ['Monday', 'Tuesday', 'Friday']},\n",
              " {'name': 'Joyce Sellers',\n",
              "  'availability': ['Monday', 'Wednesday', 'Friday', 'Saturday']},\n",
              " {'name': 'Latasha Bryan', 'availability': ['Monday', 'Sunday']},\n",
              " {'name': 'Michel Trujillo',\n",
              "  'availability': ['Monday', 'Tuesday', 'Wednesday']}]"
            ]
          },
          "metadata": {},
          "execution_count": 26
        }
      ]
    },
    {
      "cell_type": "code",
      "source": [
        "del count_availability[game_night]"
      ],
      "metadata": {
        "id": "NxZy3KpdLx_p"
      },
      "execution_count": 27,
      "outputs": []
    },
    {
      "cell_type": "code",
      "source": [
        "count_availability"
      ],
      "metadata": {
        "colab": {
          "base_uri": "https://localhost:8080/"
        },
        "id": "gtWn2iy7Tc__",
        "outputId": "a9666d52-b97b-44cf-b582-f4baff001bfb"
      },
      "execution_count": 28,
      "outputs": [
        {
          "output_type": "execute_result",
          "data": {
            "text/plain": [
              "{'Monday': 5,\n",
              " 'Tuesday': 4,\n",
              " 'Wednesday': 4,\n",
              " 'Friday': 3,\n",
              " 'Saturday': 4,\n",
              " 'Sunday': 3}"
            ]
          },
          "metadata": {},
          "execution_count": 28
        }
      ]
    },
    {
      "cell_type": "code",
      "source": [
        "second_night = find_best_night(count_availability)"
      ],
      "metadata": {
        "id": "exvQI8xATg3P"
      },
      "execution_count": 29,
      "outputs": []
    },
    {
      "cell_type": "code",
      "source": [
        "second_night"
      ],
      "metadata": {
        "colab": {
          "base_uri": "https://localhost:8080/",
          "height": 35
        },
        "id": "hmhzW92PT5oF",
        "outputId": "760c0219-7f20-4016-bbfa-282a87ce4025"
      },
      "execution_count": 30,
      "outputs": [
        {
          "output_type": "execute_result",
          "data": {
            "text/plain": [
              "'Monday'"
            ],
            "application/vnd.google.colaboratory.intrinsic+json": {
              "type": "string"
            }
          },
          "metadata": {},
          "execution_count": 30
        }
      ]
    },
    {
      "cell_type": "code",
      "source": [
        "second_night_availability = available_on_night(gamers, second_night)"
      ],
      "metadata": {
        "id": "nlZksiZ3UF7_"
      },
      "execution_count": 31,
      "outputs": []
    },
    {
      "cell_type": "code",
      "source": [
        "second_night_availability"
      ],
      "metadata": {
        "colab": {
          "base_uri": "https://localhost:8080/"
        },
        "id": "fgqTWY0HUTzN",
        "outputId": "58961b4f-3942-48a0-fe10-23d995b19ace"
      },
      "execution_count": 32,
      "outputs": [
        {
          "output_type": "execute_result",
          "data": {
            "text/plain": [
              "['Kimberly',\n",
              " 'Joyce Sellers',\n",
              " 'Joanne Lynn',\n",
              " 'Latasha Bryan',\n",
              " 'Michel Trujillo']"
            ]
          },
          "metadata": {},
          "execution_count": 32
        }
      ]
    },
    {
      "cell_type": "markdown",
      "metadata": {
        "id": "EnerSMPOxRTJ"
      },
      "source": [
        "Let's send out an email to everyone (whether they can attend the first night or not) whose marked themselves as available on our second game night.\n",
        "\n",
        "**Instructions**\n",
        "\n",
        "* Create the list `available_second_game_night` by calling `available_on_night` with `gamers` and `second_night`\n",
        "* Let the gamers know by calling `send_email` with `available_second_game_night`, `second_night`, and \"Abruptly Goblins!\""
      ]
    },
    {
      "cell_type": "code",
      "execution_count": 33,
      "metadata": {
        "id": "_75djIIUxRTJ",
        "colab": {
          "base_uri": "https://localhost:8080/"
        },
        "outputId": "c91fe5f8-5f4f-49a2-aee1-654635c898ba"
      },
      "outputs": [
        {
          "output_type": "stream",
          "name": "stdout",
          "text": [
            "Hello, Kimberly! I'm glad to inform that our Monday will be taing place on Abruptly Goblinss! See you there!\n",
            "Hello, Joyce Sellers! I'm glad to inform that our Monday will be taing place on Abruptly Goblinss! See you there!\n",
            "Hello, Joanne Lynn! I'm glad to inform that our Monday will be taing place on Abruptly Goblinss! See you there!\n",
            "Hello, Latasha Bryan! I'm glad to inform that our Monday will be taing place on Abruptly Goblinss! See you there!\n",
            "Hello, Michel Trujillo! I'm glad to inform that our Monday will be taing place on Abruptly Goblinss! See you there!\n"
          ]
        }
      ],
      "source": [
        "send_mail(second_night_availability, game, second_night)"
      ]
    },
    {
      "cell_type": "code",
      "source": [],
      "metadata": {
        "id": "_NQ21lk6Ur7y"
      },
      "execution_count": null,
      "outputs": []
    }
  ],
  "metadata": {
    "kernelspec": {
      "display_name": "Python 3",
      "language": "python",
      "name": "python3"
    },
    "language_info": {
      "codemirror_mode": {
        "name": "ipython",
        "version": 3
      },
      "file_extension": ".py",
      "mimetype": "text/x-python",
      "name": "python",
      "nbconvert_exporter": "python",
      "pygments_lexer": "ipython3",
      "version": "3.6.4"
    },
    "colab": {
      "provenance": [],
      "include_colab_link": true
    }
  },
  "nbformat": 4,
  "nbformat_minor": 0
}