{
  "nbformat": 4,
  "nbformat_minor": 0,
  "metadata": {
    "colab": {
      "provenance": [],
      "authorship_tag": "ABX9TyPqKN5aiPSdWmBdUMzE1LUS",
      "include_colab_link": true
    },
    "kernelspec": {
      "name": "python3",
      "display_name": "Python 3"
    },
    "language_info": {
      "name": "python"
    }
  },
  "cells": [
    {
      "cell_type": "markdown",
      "metadata": {
        "id": "view-in-github",
        "colab_type": "text"
      },
      "source": [
        "<a href=\"https://colab.research.google.com/github/Rhin0Runner/File-Metadata-Microservice/blob/main/HackerRank_week4_Minimum_Absolute_Difference_in_an_Array.ipynb\" target=\"_parent\"><img src=\"https://colab.research.google.com/assets/colab-badge.svg\" alt=\"Open In Colab\"/></a>"
      ]
    },
    {
      "cell_type": "code",
      "execution_count": 32,
      "metadata": {
        "id": "nANEIPT_ixxh"
      },
      "outputs": [],
      "source": [
        "def minimumAbsoluteDifference(arr):\n",
        "    arr.sort()\n",
        "    min_diff = 1000000\n",
        "    for i in range(len(arr) - 1):\n",
        "        x = abs(arr[i] - arr[i+1])\n",
        "        if x < min_diff:\n",
        "            min_diff = x\n",
        "    return min_diff\n"
      ]
    },
    {
      "cell_type": "code",
      "source": [
        "arr = [-2,2,4]\n",
        "print(minimumAbsoluteDifference(arr))"
      ],
      "metadata": {
        "colab": {
          "base_uri": "https://localhost:8080/"
        },
        "id": "FK3-cyqxqgEj",
        "outputId": "b36f39fb-1455-439c-9469-f7587f0d0f20"
      },
      "execution_count": 33,
      "outputs": [
        {
          "output_type": "stream",
          "name": "stdout",
          "text": [
            "2\n"
          ]
        }
      ]
    }
  ]
}