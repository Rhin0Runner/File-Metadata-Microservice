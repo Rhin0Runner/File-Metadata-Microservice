{
  "cells": [
    {
      "cell_type": "markdown",
      "metadata": {
        "id": "view-in-github",
        "colab_type": "text"
      },
      "source": [
        "<a href=\"https://colab.research.google.com/github/Rhin0Runner/File-Metadata-Microservice/blob/main/Naibe_Bayes%2C_scikit_Message_Classifier_Mystery_Friend.ipynb\" target=\"_parent\"><img src=\"https://colab.research.google.com/assets/colab-badge.svg\" alt=\"Open In Colab\"/></a>"
      ]
    },
    {
      "cell_type": "markdown",
      "id": "8869af05",
      "metadata": {
        "id": "8869af05"
      },
      "source": [
        "# Mystery Friend"
      ]
    },
    {
      "cell_type": "markdown",
      "id": "362e05f6",
      "metadata": {
        "id": "362e05f6"
      },
      "source": [
        "You've received an anonymous postcard from a friend who you haven't seen in years. Your friend did not leave a name, but the card is definitely addressed to you. So far, you've narrowed your search down to three friends, based on handwriting:\n",
        "- Emma Goldman\n",
        "- Matthew Henson\n",
        "- TingFang Wu\n",
        "\n",
        "But which one sent you the card?\n",
        "\n",
        "Just like you can classify a message as spam or not spam with a spam filter, you can classify writing as related to one friend or another by building a kind of friend writing classifier. You have past writing from all three friends stored up in the variable `friends_docs`, which means you can use scikit-learn's bag-of-words and Naive Bayes classifier to determine who the mystery friend is!\n",
        "\n",
        "Ready?"
      ]
    },
    {
      "cell_type": "markdown",
      "id": "65f1d856",
      "metadata": {
        "id": "65f1d856"
      },
      "source": [
        "## Feature Vectors Are in the Bag with Scikit-Learn"
      ]
    },
    {
      "cell_type": "markdown",
      "id": "203a9ff3",
      "metadata": {
        "id": "203a9ff3"
      },
      "source": [
        "1. In the code block below, import `CountVectorizer` from `sklearn.feature_extraction.text`. Below it, import `MultinomialNB` from `sklearn.naive_bayes`."
      ]
    },
    {
      "cell_type": "code",
      "execution_count": 1,
      "id": "3ccbd886",
      "metadata": {
        "id": "3ccbd886"
      },
      "outputs": [],
      "source": [
        "# import sklearn modules here:\n",
        "from sklearn.feature_extraction.text import CountVectorizer\n",
        "from sklearn.naive_bayes import MultinomialNB"
      ]
    },
    {
      "cell_type": "markdown",
      "id": "da6a2a00",
      "metadata": {
        "id": "da6a2a00"
      },
      "source": [
        "2. Define `bow_vectorizer` as an implementation of `CountVectorizer`."
      ]
    },
    {
      "cell_type": "code",
      "execution_count": 2,
      "id": "e6d6464f",
      "metadata": {
        "id": "e6d6464f"
      },
      "outputs": [],
      "source": [
        "# Create bow_vectorizer:\n",
        "bow_vectorizer = CountVectorizer()"
      ]
    },
    {
      "cell_type": "markdown",
      "id": "968a39cb",
      "metadata": {
        "id": "968a39cb"
      },
      "source": [
        "3. Use your newly minted `bow_vectorizer` to both `fit` (train) and `transform` (vectorize) all your friends' writing (stored in the variable `friends_docs`). Save the resulting vector object as `friends_vectors`."
      ]
    },
    {
      "cell_type": "code",
      "source": [
        " !pip install import-ipynb"
      ],
      "metadata": {
        "colab": {
          "base_uri": "https://localhost:8080/"
        },
        "id": "zNW_kReaYm1V",
        "outputId": "68ee2411-7cae-44c7-c38d-e17a867cacbc"
      },
      "id": "zNW_kReaYm1V",
      "execution_count": 5,
      "outputs": [
        {
          "output_type": "stream",
          "name": "stdout",
          "text": [
            "Collecting import-ipynb\n",
            "  Downloading import_ipynb-0.1.4-py3-none-any.whl (4.1 kB)\n",
            "Requirement already satisfied: IPython in /usr/local/lib/python3.10/dist-packages (from import-ipynb) (7.34.0)\n",
            "Requirement already satisfied: nbformat in /usr/local/lib/python3.10/dist-packages (from import-ipynb) (5.10.4)\n",
            "Requirement already satisfied: setuptools>=18.5 in /usr/local/lib/python3.10/dist-packages (from IPython->import-ipynb) (67.7.2)\n",
            "Collecting jedi>=0.16 (from IPython->import-ipynb)\n",
            "  Downloading jedi-0.19.1-py2.py3-none-any.whl (1.6 MB)\n",
            "\u001b[2K     \u001b[90m━━━━━━━━━━━━━━━━━━━━━━━━━━━━━━━━━━━━━━━━\u001b[0m \u001b[32m1.6/1.6 MB\u001b[0m \u001b[31m17.6 MB/s\u001b[0m eta \u001b[36m0:00:00\u001b[0m\n",
            "\u001b[?25hRequirement already satisfied: decorator in /usr/local/lib/python3.10/dist-packages (from IPython->import-ipynb) (4.4.2)\n",
            "Requirement already satisfied: pickleshare in /usr/local/lib/python3.10/dist-packages (from IPython->import-ipynb) (0.7.5)\n",
            "Requirement already satisfied: traitlets>=4.2 in /usr/local/lib/python3.10/dist-packages (from IPython->import-ipynb) (5.7.1)\n",
            "Requirement already satisfied: prompt-toolkit!=3.0.0,!=3.0.1,<3.1.0,>=2.0.0 in /usr/local/lib/python3.10/dist-packages (from IPython->import-ipynb) (3.0.47)\n",
            "Requirement already satisfied: pygments in /usr/local/lib/python3.10/dist-packages (from IPython->import-ipynb) (2.16.1)\n",
            "Requirement already satisfied: backcall in /usr/local/lib/python3.10/dist-packages (from IPython->import-ipynb) (0.2.0)\n",
            "Requirement already satisfied: matplotlib-inline in /usr/local/lib/python3.10/dist-packages (from IPython->import-ipynb) (0.1.7)\n",
            "Requirement already satisfied: pexpect>4.3 in /usr/local/lib/python3.10/dist-packages (from IPython->import-ipynb) (4.9.0)\n",
            "Requirement already satisfied: fastjsonschema>=2.15 in /usr/local/lib/python3.10/dist-packages (from nbformat->import-ipynb) (2.20.0)\n",
            "Requirement already satisfied: jsonschema>=2.6 in /usr/local/lib/python3.10/dist-packages (from nbformat->import-ipynb) (4.19.2)\n",
            "Requirement already satisfied: jupyter-core!=5.0.*,>=4.12 in /usr/local/lib/python3.10/dist-packages (from nbformat->import-ipynb) (5.7.2)\n",
            "Requirement already satisfied: parso<0.9.0,>=0.8.3 in /usr/local/lib/python3.10/dist-packages (from jedi>=0.16->IPython->import-ipynb) (0.8.4)\n",
            "Requirement already satisfied: attrs>=22.2.0 in /usr/local/lib/python3.10/dist-packages (from jsonschema>=2.6->nbformat->import-ipynb) (23.2.0)\n",
            "Requirement already satisfied: jsonschema-specifications>=2023.03.6 in /usr/local/lib/python3.10/dist-packages (from jsonschema>=2.6->nbformat->import-ipynb) (2023.12.1)\n",
            "Requirement already satisfied: referencing>=0.28.4 in /usr/local/lib/python3.10/dist-packages (from jsonschema>=2.6->nbformat->import-ipynb) (0.35.1)\n",
            "Requirement already satisfied: rpds-py>=0.7.1 in /usr/local/lib/python3.10/dist-packages (from jsonschema>=2.6->nbformat->import-ipynb) (0.18.1)\n",
            "Requirement already satisfied: platformdirs>=2.5 in /usr/local/lib/python3.10/dist-packages (from jupyter-core!=5.0.*,>=4.12->nbformat->import-ipynb) (4.2.2)\n",
            "Requirement already satisfied: ptyprocess>=0.5 in /usr/local/lib/python3.10/dist-packages (from pexpect>4.3->IPython->import-ipynb) (0.7.0)\n",
            "Requirement already satisfied: wcwidth in /usr/local/lib/python3.10/dist-packages (from prompt-toolkit!=3.0.0,!=3.0.1,<3.1.0,>=2.0.0->IPython->import-ipynb) (0.2.13)\n",
            "Installing collected packages: jedi, import-ipynb\n",
            "Successfully installed import-ipynb-0.1.4 jedi-0.19.1\n"
          ]
        }
      ]
    },
    {
      "cell_type": "code",
      "execution_count": 7,
      "id": "b1366163",
      "metadata": {
        "id": "b1366163"
      },
      "outputs": [],
      "source": [
        "import import_ipynb\n",
        "\n",
        "from goldman_emma_raw import goldman_docs\n",
        "from henson_matthew_raw import henson_docs\n",
        "from wu_tingfang_raw import wu_docs\n",
        "\n",
        "friends_docs = goldman_docs + henson_docs + wu_docs\n",
        "\n",
        "# Define friends_vectors:\n",
        "friends_vectors = bow_vectorizer.fit_transform(friends_docs)"
      ]
    },
    {
      "cell_type": "markdown",
      "id": "21578a5d",
      "metadata": {
        "id": "21578a5d"
      },
      "source": [
        "4. Create a new variable `mystery_vector`. Assign to it the vectorized form of `[mystery_postcard]` using the vectorizer's `.transform()` method.\n",
        "\n",
        "   (`mystery_postcard` is a string, while the vectorizer expects a list as an argument.)"
      ]
    },
    {
      "cell_type": "code",
      "execution_count": 28,
      "id": "9d7dc322",
      "metadata": {
        "id": "9d7dc322"
      },
      "outputs": [],
      "source": [
        "mystery_postcard = \"\"\"\n",
        "My friend,\n",
        "From the 10th of July to the 13th, a fierce storm raged, clouds of\n",
        "freeing spray broke over the ship, incasing her in a coat of icy mail,\n",
        "and the tempest forced all of the ice out of the lower end of the\n",
        "channel and beyond as far as the eye could see, but the _Roosevelt_\n",
        "still remained surrounded by ice.\n",
        "Hope to see you soon.\n",
        "\"\"\"\n",
        "\n",
        "# Define mystery_vector:\n",
        "mistery_vector = bow_vectorizer.transform([mystery_postcard])\n"
      ]
    },
    {
      "cell_type": "markdown",
      "id": "4cdc6963",
      "metadata": {
        "id": "4cdc6963"
      },
      "source": [
        "## This Mystery Friend Gets Classified"
      ]
    },
    {
      "cell_type": "markdown",
      "id": "f47ac51e",
      "metadata": {
        "id": "f47ac51e"
      },
      "source": [
        "5. You've vectorized and prepared all the documents. Let's take a look at your friends' writing samples to get a sense of how they write.\n",
        "\n",
        "   Print out one document of each friend's writing - try any one between `0` and `140`. (Your friends' documents are stored in `goldman_docs`, `henson_docs`, and `wu_docs`.)"
      ]
    },
    {
      "cell_type": "code",
      "execution_count": 29,
      "id": "7ca6fdb0",
      "metadata": {
        "colab": {
          "base_uri": "https://localhost:8080/"
        },
        "id": "7ca6fdb0",
        "outputId": "1f525d8e-5ed7-46c7-89f2-7047e25c5417"
      },
      "outputs": [
        {
          "output_type": "stream",
          "name": "stdout",
          "text": [
            " Poor America, of what\n",
            "avail is all her wealth, if the individuals comprising the nation are\n",
            "wretchedly poor?  If they live in squalor, in filth, in crime, with\n",
            "hope and joy gone, a homeless, soilless army of human prey.\n",
            "\n",
            "It is generally conceded that unless the returns of any business\n",
            "venture exceed the cost, bankruptcy is inevitable\n"
          ]
        }
      ],
      "source": [
        "# Print out a document from each friend:\n",
        "print(goldman_docs[41])"
      ]
    },
    {
      "cell_type": "code",
      "source": [
        "print(henson_docs[125])"
      ],
      "metadata": {
        "colab": {
          "base_uri": "https://localhost:8080/"
        },
        "id": "XGz4uz9QtU9i",
        "outputId": "00a7af15-4580-4106-99e3-7044f2c398db"
      },
      "id": "XGz4uz9QtU9i",
      "execution_count": 14,
      "outputs": [
        {
          "output_type": "stream",
          "name": "stdout",
          "text": [
            "Captain Bartlett was forward,\n",
            "astraddle of the bow with the boat-hook in his hands to fend off the\n",
            "blocks of ice, and knew perfectly well where he wanted to land, but the\n",
            "group of excited Esquimos were in his way and though he ordered them\n",
            "back, they continued running about and getting in his way\n"
          ]
        }
      ]
    },
    {
      "cell_type": "code",
      "source": [
        "print(wu_docs[9])"
      ],
      "metadata": {
        "colab": {
          "base_uri": "https://localhost:8080/"
        },
        "id": "JW4PwePPtiM6",
        "outputId": "5c6e0acc-d2bd-41e1-c4b2-58b764e1b828"
      },
      "id": "JW4PwePPtiM6",
      "execution_count": 24,
      "outputs": [
        {
          "output_type": "stream",
          "name": "stdout",
          "text": [
            " Was I to be blamed for\n",
            "wondering if the elevator would be my coffin?  On another occasion I\n",
            "met a man whose name was \"Death\", and as soon as I heard his name I\n",
            "felt inclined to run away, for I did not wish to die\n"
          ]
        }
      ]
    },
    {
      "cell_type": "markdown",
      "id": "61585924",
      "metadata": {
        "id": "61585924"
      },
      "source": [
        "6. Have an inkling about which friend wrote the mystery card? We can use a classifier to confirm those suspicions...\n",
        "\n",
        "   Implement a Naive Bayes classifier using `MultinomialNB`. Save the result to `friends_classifier`."
      ]
    },
    {
      "cell_type": "code",
      "execution_count": 30,
      "id": "94d04847",
      "metadata": {
        "id": "94d04847"
      },
      "outputs": [],
      "source": [
        "# Define friends_classifier:\n",
        "friends_classifier = MultinomialNB()"
      ]
    },
    {
      "cell_type": "markdown",
      "id": "5c592f14",
      "metadata": {
        "id": "5c592f14"
      },
      "source": [
        "7. Train `friends_classifier` on `friends_vectors` and `friends_labels` using the classifier's `.fit()` method."
      ]
    },
    {
      "cell_type": "code",
      "execution_count": 31,
      "id": "ab331e8b",
      "metadata": {
        "colab": {
          "base_uri": "https://localhost:8080/",
          "height": 75
        },
        "id": "ab331e8b",
        "outputId": "cf39d6bb-c684-4f15-9c8c-b424b163be5a"
      },
      "outputs": [
        {
          "output_type": "execute_result",
          "data": {
            "text/plain": [
              "MultinomialNB()"
            ],
            "text/html": [
              "<style>#sk-container-id-2 {color: black;background-color: white;}#sk-container-id-2 pre{padding: 0;}#sk-container-id-2 div.sk-toggleable {background-color: white;}#sk-container-id-2 label.sk-toggleable__label {cursor: pointer;display: block;width: 100%;margin-bottom: 0;padding: 0.3em;box-sizing: border-box;text-align: center;}#sk-container-id-2 label.sk-toggleable__label-arrow:before {content: \"▸\";float: left;margin-right: 0.25em;color: #696969;}#sk-container-id-2 label.sk-toggleable__label-arrow:hover:before {color: black;}#sk-container-id-2 div.sk-estimator:hover label.sk-toggleable__label-arrow:before {color: black;}#sk-container-id-2 div.sk-toggleable__content {max-height: 0;max-width: 0;overflow: hidden;text-align: left;background-color: #f0f8ff;}#sk-container-id-2 div.sk-toggleable__content pre {margin: 0.2em;color: black;border-radius: 0.25em;background-color: #f0f8ff;}#sk-container-id-2 input.sk-toggleable__control:checked~div.sk-toggleable__content {max-height: 200px;max-width: 100%;overflow: auto;}#sk-container-id-2 input.sk-toggleable__control:checked~label.sk-toggleable__label-arrow:before {content: \"▾\";}#sk-container-id-2 div.sk-estimator input.sk-toggleable__control:checked~label.sk-toggleable__label {background-color: #d4ebff;}#sk-container-id-2 div.sk-label input.sk-toggleable__control:checked~label.sk-toggleable__label {background-color: #d4ebff;}#sk-container-id-2 input.sk-hidden--visually {border: 0;clip: rect(1px 1px 1px 1px);clip: rect(1px, 1px, 1px, 1px);height: 1px;margin: -1px;overflow: hidden;padding: 0;position: absolute;width: 1px;}#sk-container-id-2 div.sk-estimator {font-family: monospace;background-color: #f0f8ff;border: 1px dotted black;border-radius: 0.25em;box-sizing: border-box;margin-bottom: 0.5em;}#sk-container-id-2 div.sk-estimator:hover {background-color: #d4ebff;}#sk-container-id-2 div.sk-parallel-item::after {content: \"\";width: 100%;border-bottom: 1px solid gray;flex-grow: 1;}#sk-container-id-2 div.sk-label:hover label.sk-toggleable__label {background-color: #d4ebff;}#sk-container-id-2 div.sk-serial::before {content: \"\";position: absolute;border-left: 1px solid gray;box-sizing: border-box;top: 0;bottom: 0;left: 50%;z-index: 0;}#sk-container-id-2 div.sk-serial {display: flex;flex-direction: column;align-items: center;background-color: white;padding-right: 0.2em;padding-left: 0.2em;position: relative;}#sk-container-id-2 div.sk-item {position: relative;z-index: 1;}#sk-container-id-2 div.sk-parallel {display: flex;align-items: stretch;justify-content: center;background-color: white;position: relative;}#sk-container-id-2 div.sk-item::before, #sk-container-id-2 div.sk-parallel-item::before {content: \"\";position: absolute;border-left: 1px solid gray;box-sizing: border-box;top: 0;bottom: 0;left: 50%;z-index: -1;}#sk-container-id-2 div.sk-parallel-item {display: flex;flex-direction: column;z-index: 1;position: relative;background-color: white;}#sk-container-id-2 div.sk-parallel-item:first-child::after {align-self: flex-end;width: 50%;}#sk-container-id-2 div.sk-parallel-item:last-child::after {align-self: flex-start;width: 50%;}#sk-container-id-2 div.sk-parallel-item:only-child::after {width: 0;}#sk-container-id-2 div.sk-dashed-wrapped {border: 1px dashed gray;margin: 0 0.4em 0.5em 0.4em;box-sizing: border-box;padding-bottom: 0.4em;background-color: white;}#sk-container-id-2 div.sk-label label {font-family: monospace;font-weight: bold;display: inline-block;line-height: 1.2em;}#sk-container-id-2 div.sk-label-container {text-align: center;}#sk-container-id-2 div.sk-container {/* jupyter's `normalize.less` sets `[hidden] { display: none; }` but bootstrap.min.css set `[hidden] { display: none !important; }` so we also need the `!important` here to be able to override the default hidden behavior on the sphinx rendered scikit-learn.org. See: https://github.com/scikit-learn/scikit-learn/issues/21755 */display: inline-block !important;position: relative;}#sk-container-id-2 div.sk-text-repr-fallback {display: none;}</style><div id=\"sk-container-id-2\" class=\"sk-top-container\"><div class=\"sk-text-repr-fallback\"><pre>MultinomialNB()</pre><b>In a Jupyter environment, please rerun this cell to show the HTML representation or trust the notebook. <br />On GitHub, the HTML representation is unable to render, please try loading this page with nbviewer.org.</b></div><div class=\"sk-container\" hidden><div class=\"sk-item\"><div class=\"sk-estimator sk-toggleable\"><input class=\"sk-toggleable__control sk-hidden--visually\" id=\"sk-estimator-id-2\" type=\"checkbox\" checked><label for=\"sk-estimator-id-2\" class=\"sk-toggleable__label sk-toggleable__label-arrow\">MultinomialNB</label><div class=\"sk-toggleable__content\"><pre>MultinomialNB()</pre></div></div></div></div></div>"
            ]
          },
          "metadata": {},
          "execution_count": 31
        }
      ],
      "source": [
        "friends_labels = [\"Emma\"] * 154 + [\"Matthew\"] * 141 + [\"Tingfang\"] * 166\n",
        "\n",
        "# Train the classifier:\n",
        "friends_classifier.fit(friends_vectors, friends_labels)"
      ]
    },
    {
      "cell_type": "markdown",
      "id": "40993688",
      "metadata": {
        "id": "40993688"
      },
      "source": [
        "8. Change `predictions` value from `[\"None Yet\"]` to the classifier's prediction about which friend wrote the postcard. You can do this by calling the classifier's `predict()` method on the `mystery_vector`."
      ]
    },
    {
      "cell_type": "code",
      "execution_count": 33,
      "id": "69dffb15",
      "metadata": {
        "id": "69dffb15"
      },
      "outputs": [],
      "source": [
        "# Change predictions:\n",
        "predictions = friends_classifier.predict(mistery_vector)\n"
      ]
    },
    {
      "cell_type": "markdown",
      "id": "d93957d7",
      "metadata": {
        "id": "d93957d7"
      },
      "source": [
        "## Mystery Revealed!"
      ]
    },
    {
      "cell_type": "markdown",
      "id": "807d3b26",
      "metadata": {
        "id": "807d3b26"
      },
      "source": [
        "9. Uncomment the final print statement and run the code block below to see who your mystery friend was all along!"
      ]
    },
    {
      "cell_type": "code",
      "execution_count": 35,
      "id": "714701ec",
      "metadata": {
        "colab": {
          "base_uri": "https://localhost:8080/"
        },
        "id": "714701ec",
        "outputId": "039d580e-a6f4-4820-bcd9-49335f9d46ef"
      },
      "outputs": [
        {
          "output_type": "stream",
          "name": "stdout",
          "text": [
            "The postcard was from Matthew!\n"
          ]
        }
      ],
      "source": [
        "mystery_friend = predictions[0] if predictions[0] else \"someone else\"\n",
        "\n",
        "# Uncomment the print statement:\n",
        "print(\"The postcard was from {}!\".format(mystery_friend))"
      ]
    },
    {
      "cell_type": "markdown",
      "id": "e0d26a4b",
      "metadata": {
        "id": "e0d26a4b"
      },
      "source": [
        "10. But does it really work? Find some lines by Emma Goldman, Matthew Henson, and TingFang Wu on <a href=\"http://www.gutenberg.org\" target=\"_blank\">gutenberg.org</a> and save them to `mystery_postcard` to see how the classifier holds up!\n",
        "\n",
        "    Try using the `.predict_proba()` method instead of `.predict()` and print out `predictions` to see the estimated probabilities that the `mystery_postcard` was written by each person.\n",
        "   \n",
        "    What happens when you add in a recent email or text instead?"
      ]
    },
    {
      "cell_type": "code",
      "execution_count": 36,
      "id": "f93572ad",
      "metadata": {
        "id": "f93572ad"
      },
      "outputs": [],
      "source": [
        "predictions_proba = friends_classifier.predict_proba(mistery_vector)"
      ]
    },
    {
      "cell_type": "code",
      "execution_count": 37,
      "id": "93dd91fb",
      "metadata": {
        "colab": {
          "base_uri": "https://localhost:8080/"
        },
        "id": "93dd91fb",
        "outputId": "4154e2ce-d44c-4058-f54b-b0fd33fec84c"
      },
      "outputs": [
        {
          "output_type": "stream",
          "name": "stdout",
          "text": [
            "[[1.10199321e-02 9.88977727e-01 2.34054697e-06]]\n"
          ]
        }
      ],
      "source": [
        "print(predictions_proba)"
      ]
    }
  ],
  "metadata": {
    "kernelspec": {
      "display_name": "Python 3 (ipykernel)",
      "language": "python",
      "name": "python3"
    },
    "language_info": {
      "codemirror_mode": {
        "name": "ipython",
        "version": 3
      },
      "file_extension": ".py",
      "mimetype": "text/x-python",
      "name": "python",
      "nbconvert_exporter": "python",
      "pygments_lexer": "ipython3",
      "version": "3.7.11"
    },
    "colab": {
      "provenance": [],
      "include_colab_link": true
    }
  },
  "nbformat": 4,
  "nbformat_minor": 5
}