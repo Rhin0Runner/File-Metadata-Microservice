{
  "nbformat": 4,
  "nbformat_minor": 0,
  "metadata": {
    "colab": {
      "provenance": [],
      "authorship_tag": "ABX9TyOYzxkH155Cl31GYW+ELw+7",
      "include_colab_link": true
    },
    "kernelspec": {
      "name": "python3",
      "display_name": "Python 3"
    },
    "language_info": {
      "name": "python"
    }
  },
  "cells": [
    {
      "cell_type": "markdown",
      "metadata": {
        "id": "view-in-github",
        "colab_type": "text"
      },
      "source": [
        "<a href=\"https://colab.research.google.com/github/Rhin0Runner/File-Metadata-Microservice/blob/main/hackerrank_week2_grading_students.ipynb\" target=\"_parent\"><img src=\"https://colab.research.google.com/assets/colab-badge.svg\" alt=\"Open In Colab\"/></a>"
      ]
    },
    {
      "cell_type": "code",
      "execution_count": 19,
      "metadata": {
        "id": "DKJWmg4Y31FS"
      },
      "outputs": [],
      "source": [
        "def gradingStudents(grades):\n",
        "    final_grades = []\n",
        "    for grade in grades:\n",
        "        if grade < 38:\n",
        "            final_grades.append(grade)\n",
        "        else:\n",
        "            if (grade % 5) == 3:\n",
        "                final_grades.append(grade + 2)\n",
        "            elif (grade % 5) == 4:\n",
        "                final_grades.append(grade + 1)\n",
        "            else:\n",
        "                final_grades.append(grade)\n",
        "\n",
        "    return final_grades"
      ]
    },
    {
      "cell_type": "code",
      "source": [
        "grades = [84, 29, 57, 73, 38]\n",
        "print(gradingStudents(grades))"
      ],
      "metadata": {
        "colab": {
          "base_uri": "https://localhost:8080/"
        },
        "id": "uHGPGQL3Bnyp",
        "outputId": "390c7f9e-1283-453d-9c3e-7441c2de9851"
      },
      "execution_count": 20,
      "outputs": [
        {
          "output_type": "stream",
          "name": "stdout",
          "text": [
            "[85, 29, 57, 75, 40]\n"
          ]
        }
      ]
    }
  ]
}