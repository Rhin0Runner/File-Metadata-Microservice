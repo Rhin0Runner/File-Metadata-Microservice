{
  "nbformat": 4,
  "nbformat_minor": 0,
  "metadata": {
    "colab": {
      "provenance": [],
      "authorship_tag": "ABX9TyNsuy83ls217n9KSiWzCKvB",
      "include_colab_link": true
    },
    "kernelspec": {
      "name": "python3",
      "display_name": "Python 3"
    },
    "language_info": {
      "name": "python"
    }
  },
  "cells": [
    {
      "cell_type": "markdown",
      "metadata": {
        "id": "view-in-github",
        "colab_type": "text"
      },
      "source": [
        "<a href=\"https://colab.research.google.com/github/Rhin0Runner/File-Metadata-Microservice/blob/main/hackerrank_week2_Diagonal_Difference.ipynb\" target=\"_parent\"><img src=\"https://colab.research.google.com/assets/colab-badge.svg\" alt=\"Open In Colab\"/></a>"
      ]
    },
    {
      "cell_type": "code",
      "execution_count": 32,
      "metadata": {
        "id": "fPBq0iRujdp4"
      },
      "outputs": [],
      "source": [
        "def diagonalDifference(arr):\n",
        "    arr_length = len(arr[0])\n",
        "    diag_1 = 0\n",
        "    diag_2 = 0\n",
        "    counter = 0\n",
        "    for elem in arr:\n",
        "        diag_1 += arr[counter][counter]\n",
        "        counter += 1\n",
        "    counter = 0\n",
        "    counter2 = arr_length - 1\n",
        "    for elem in arr:\n",
        "        diag_2 += arr[counter][counter2]\n",
        "        counter2 -= 1\n",
        "        counter += 1\n",
        "    final_number = abs(diag_1 - diag_2)\n",
        "    return final_number"
      ]
    },
    {
      "cell_type": "code",
      "source": [
        "arr = [[11,2,4],[4,5,6],[10,8,-12]]\n",
        "diagonalDifference(arr)"
      ],
      "metadata": {
        "colab": {
          "base_uri": "https://localhost:8080/"
        },
        "id": "MHcxadEcl0_a",
        "outputId": "73f2111d-faaa-40d6-a180-c1b1e5631136"
      },
      "execution_count": 33,
      "outputs": [
        {
          "output_type": "execute_result",
          "data": {
            "text/plain": [
              "15"
            ]
          },
          "metadata": {},
          "execution_count": 33
        }
      ]
    }
  ]
}