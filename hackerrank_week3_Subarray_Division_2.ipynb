{
  "nbformat": 4,
  "nbformat_minor": 0,
  "metadata": {
    "colab": {
      "provenance": [],
      "authorship_tag": "ABX9TyNQoS36AiC3iHEW4bgSWMx1",
      "include_colab_link": true
    },
    "kernelspec": {
      "name": "python3",
      "display_name": "Python 3"
    },
    "language_info": {
      "name": "python"
    }
  },
  "cells": [
    {
      "cell_type": "markdown",
      "metadata": {
        "id": "view-in-github",
        "colab_type": "text"
      },
      "source": [
        "<a href=\"https://colab.research.google.com/github/Rhin0Runner/File-Metadata-Microservice/blob/main/hackerrank_week3_Subarray_Division_2.ipynb\" target=\"_parent\"><img src=\"https://colab.research.google.com/assets/colab-badge.svg\" alt=\"Open In Colab\"/></a>"
      ]
    },
    {
      "cell_type": "code",
      "execution_count": 43,
      "metadata": {
        "id": "hDU5yXr6Rl-D"
      },
      "outputs": [],
      "source": [
        "def birthday(s, d, m):\n",
        "    # Write your code here\n",
        "    arr_length = len(s)\n",
        "    test_arr = []\n",
        "    final_arr = []\n",
        "    while len(s) >= m:\n",
        "        if sum(s[:m]) == d:\n",
        "            final_arr.append(s[:m])\n",
        "            del s[:1]\n",
        "        else:\n",
        "            del s[:1]\n",
        "\n",
        "    return len(final_arr)"
      ]
    },
    {
      "cell_type": "code",
      "source": [
        "s = [2,2,1,3,2]\n",
        "d = 4 #sum\n",
        "m = 2 #length\n",
        "print(birthday(s, d, m))"
      ],
      "metadata": {
        "colab": {
          "base_uri": "https://localhost:8080/"
        },
        "id": "N8sfq0mCRp5c",
        "outputId": "05b03ea4-b26b-4f56-9e08-95c654601070"
      },
      "execution_count": 44,
      "outputs": [
        {
          "output_type": "stream",
          "name": "stdout",
          "text": [
            "2\n"
          ]
        }
      ]
    },
    {
      "cell_type": "code",
      "source": [
        "s = [1,2,1,3,2]\n",
        "d = 3 #sum\n",
        "m = 2 #length\n",
        "print(birthday(s, d, m))"
      ],
      "metadata": {
        "colab": {
          "base_uri": "https://localhost:8080/"
        },
        "id": "Ap0NRZNCdLjU",
        "outputId": "b88aeec8-b0ca-425d-e41d-cb823ff56013"
      },
      "execution_count": 45,
      "outputs": [
        {
          "output_type": "stream",
          "name": "stdout",
          "text": [
            "2\n"
          ]
        }
      ]
    }
  ]
}