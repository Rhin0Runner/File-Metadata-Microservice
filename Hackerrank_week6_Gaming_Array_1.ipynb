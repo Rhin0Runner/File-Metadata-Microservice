{
  "nbformat": 4,
  "nbformat_minor": 0,
  "metadata": {
    "colab": {
      "provenance": [],
      "authorship_tag": "ABX9TyP4dDTFYMq/qSKr69shz9iW",
      "include_colab_link": true
    },
    "kernelspec": {
      "name": "python3",
      "display_name": "Python 3"
    },
    "language_info": {
      "name": "python"
    }
  },
  "cells": [
    {
      "cell_type": "markdown",
      "metadata": {
        "id": "view-in-github",
        "colab_type": "text"
      },
      "source": [
        "<a href=\"https://colab.research.google.com/github/Rhin0Runner/File-Metadata-Microservice/blob/main/Hackerrank_week6_Gaming_Array_1.ipynb\" target=\"_parent\"><img src=\"https://colab.research.google.com/assets/colab-badge.svg\" alt=\"Open In Colab\"/></a>"
      ]
    },
    {
      "cell_type": "code",
      "execution_count": 38,
      "metadata": {
        "id": "AlmcF_jiR-Ol"
      },
      "outputs": [],
      "source": [
        "def gamingArray(arr):\n",
        "    # Write your code here\n",
        "    winner = 0\n",
        "    cmax = 0\n",
        "\n",
        "    for i in range(len(arr)):\n",
        "        if cmax < arr[i]:\n",
        "            cmax = arr[i]\n",
        "            winner += 1\n",
        "    if winner % 2 == 1:\n",
        "        return 'BOB'\n",
        "    else:\n",
        "        return 'ANDY'"
      ]
    },
    {
      "cell_type": "code",
      "source": [
        "arr = [1, 3, 5, 7, 9]\n",
        "print(gamingArray(arr))\n"
      ],
      "metadata": {
        "colab": {
          "base_uri": "https://localhost:8080/"
        },
        "id": "HNAYgbU_S5me",
        "outputId": "d6c22295-f6db-4d98-be4e-78490a143ee3"
      },
      "execution_count": 39,
      "outputs": [
        {
          "output_type": "stream",
          "name": "stdout",
          "text": [
            "BOB\n"
          ]
        }
      ]
    },
    {
      "cell_type": "code",
      "source": [
        "arr = [5, 2, 6, 3, 4]\n",
        "print(gamingArray(arr))"
      ],
      "metadata": {
        "colab": {
          "base_uri": "https://localhost:8080/"
        },
        "id": "Hh8jB4TuXdUS",
        "outputId": "9c4a7ebc-9132-4b6f-e6c7-78acdfe5c016"
      },
      "execution_count": 40,
      "outputs": [
        {
          "output_type": "stream",
          "name": "stdout",
          "text": [
            "ANDY\n"
          ]
        }
      ]
    },
    {
      "cell_type": "code",
      "source": [
        "arr = [7, 4, 6, 5, 9]\n",
        "print(gamingArray(arr))"
      ],
      "metadata": {
        "colab": {
          "base_uri": "https://localhost:8080/"
        },
        "id": "hDm_oEGLcLR8",
        "outputId": "db8b02d7-b3c4-4f68-b416-c56b1558a583"
      },
      "execution_count": 41,
      "outputs": [
        {
          "output_type": "stream",
          "name": "stdout",
          "text": [
            "ANDY\n"
          ]
        }
      ]
    }
  ]
}