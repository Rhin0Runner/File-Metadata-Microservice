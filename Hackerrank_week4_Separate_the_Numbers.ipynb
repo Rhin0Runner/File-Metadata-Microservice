{
  "nbformat": 4,
  "nbformat_minor": 0,
  "metadata": {
    "colab": {
      "provenance": [],
      "authorship_tag": "ABX9TyMnng3joQbTjCQw+Aj6wjRj",
      "include_colab_link": true
    },
    "kernelspec": {
      "name": "python3",
      "display_name": "Python 3"
    },
    "language_info": {
      "name": "python"
    }
  },
  "cells": [
    {
      "cell_type": "markdown",
      "metadata": {
        "id": "view-in-github",
        "colab_type": "text"
      },
      "source": [
        "<a href=\"https://colab.research.google.com/github/Rhin0Runner/File-Metadata-Microservice/blob/main/Hackerrank_week4_Separate_the_Numbers.ipynb\" target=\"_parent\"><img src=\"https://colab.research.google.com/assets/colab-badge.svg\" alt=\"Open In Colab\"/></a>"
      ]
    },
    {
      "cell_type": "code",
      "execution_count": 26,
      "metadata": {
        "id": "dChnTC_45xrH"
      },
      "outputs": [],
      "source": [
        "def separateNumbers(s):\n",
        "    # Write your code here\n",
        "    found = False\n",
        "    for i in range(len(s)//2):\n",
        "        a = s[:i+1]\n",
        "        f = n = int(s[:i+1])\n",
        "        while len(a) < len(s):\n",
        "            n += 1\n",
        "            a += str(n)\n",
        "        if a == s:\n",
        "            found = True\n",
        "            print('YES',f)\n",
        "            break\n",
        "    if not found:\n",
        "        print('NO')"
      ]
    },
    {
      "cell_type": "code",
      "source": [
        "s = '1234'\n",
        "print(separateNumbers(s))"
      ],
      "metadata": {
        "colab": {
          "base_uri": "https://localhost:8080/"
        },
        "id": "edY2TIGm50Rq",
        "outputId": "e6e9ff6c-7bdd-49fc-d499-f70d68c3e0d0"
      },
      "execution_count": 27,
      "outputs": [
        {
          "output_type": "stream",
          "name": "stdout",
          "text": [
            "YES 1\n",
            "None\n"
          ]
        }
      ]
    }
  ]
}