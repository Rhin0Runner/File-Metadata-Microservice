{
  "nbformat": 4,
  "nbformat_minor": 0,
  "metadata": {
    "colab": {
      "provenance": [],
      "authorship_tag": "ABX9TyOwlaqqyasHVFBdaBicQ1VM",
      "include_colab_link": true
    },
    "kernelspec": {
      "name": "python3",
      "display_name": "Python 3"
    },
    "language_info": {
      "name": "python"
    }
  },
  "cells": [
    {
      "cell_type": "markdown",
      "metadata": {
        "id": "view-in-github",
        "colab_type": "text"
      },
      "source": [
        "<a href=\"https://colab.research.google.com/github/Rhin0Runner/File-Metadata-Microservice/blob/main/HackerRank_Week4_Number_Line_Jumps.ipynb\" target=\"_parent\"><img src=\"https://colab.research.google.com/assets/colab-badge.svg\" alt=\"Open In Colab\"/></a>"
      ]
    },
    {
      "cell_type": "code",
      "execution_count": 15,
      "metadata": {
        "id": "LcHscbnMJIUq"
      },
      "outputs": [],
      "source": [
        "def kangaroo(x1, v1, x2, v2):\n",
        "    if x1 < x2 and v1 < v2:\n",
        "        answer = 'NO'\n",
        "    elif x1 > x2 and v1 > v2:\n",
        "        answer = 'NO'\n",
        "    elif x1 != x2 and v1 == v2:\n",
        "        answer = 'NO'\n",
        "    elif x1 > x2:\n",
        "        while x1 > x2:\n",
        "            x1 += v1\n",
        "            x2 += v2\n",
        "        if x1 == x2:\n",
        "            answer = 'YES'\n",
        "        else:\n",
        "            answer = 'NO'\n",
        "    elif x1 < x2:\n",
        "        while x1 < x2:\n",
        "            x1 += v1\n",
        "            x2 += v2\n",
        "    if x1 == x2:\n",
        "        answer = 'YES'\n",
        "    else:\n",
        "        answer = 'NO'\n",
        "\n",
        "    return answer"
      ]
    },
    {
      "cell_type": "code",
      "source": [
        "x1 = 2\n",
        "v1 = 1\n",
        "x2 = 1\n",
        "v2 = 2\n",
        "print(kangaroo(x1, v1, x2, v2))"
      ],
      "metadata": {
        "colab": {
          "base_uri": "https://localhost:8080/"
        },
        "id": "rQo9KirNL6mL",
        "outputId": "6f24f96e-0cf1-4510-b906-c9b13b6734c0"
      },
      "execution_count": 14,
      "outputs": [
        {
          "output_type": "stream",
          "name": "stdout",
          "text": [
            "YES\n"
          ]
        }
      ]
    }
  ]
}