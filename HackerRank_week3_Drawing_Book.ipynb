{
  "nbformat": 4,
  "nbformat_minor": 0,
  "metadata": {
    "colab": {
      "provenance": [],
      "authorship_tag": "ABX9TyPZC+eYTOJB1jI3GGp1CdnB",
      "include_colab_link": true
    },
    "kernelspec": {
      "name": "python3",
      "display_name": "Python 3"
    },
    "language_info": {
      "name": "python"
    }
  },
  "cells": [
    {
      "cell_type": "markdown",
      "metadata": {
        "id": "view-in-github",
        "colab_type": "text"
      },
      "source": [
        "<a href=\"https://colab.research.google.com/github/Rhin0Runner/File-Metadata-Microservice/blob/main/HackerRank_week3_Drawing_Book.ipynb\" target=\"_parent\"><img src=\"https://colab.research.google.com/assets/colab-badge.svg\" alt=\"Open In Colab\"/></a>"
      ]
    },
    {
      "cell_type": "code",
      "execution_count": 1,
      "metadata": {
        "id": "tB4oqjpnSjD5"
      },
      "outputs": [],
      "source": [
        "def pageCount(n, p):\n",
        "    page_in_book = p//2\n",
        "    total_pages = n//2\n",
        "    from_front = page_in_book\n",
        "    from_back = total_pages - page_in_book\n",
        "    return(min(from_front, from_back))"
      ]
    },
    {
      "cell_type": "code",
      "source": [
        "print(pageCount(6, 2))"
      ],
      "metadata": {
        "colab": {
          "base_uri": "https://localhost:8080/"
        },
        "id": "Z0_nnlhdT95g",
        "outputId": "91a65275-7fd7-483c-fce7-1bb50adddd43"
      },
      "execution_count": 2,
      "outputs": [
        {
          "output_type": "stream",
          "name": "stdout",
          "text": [
            "1\n"
          ]
        }
      ]
    }
  ]
}