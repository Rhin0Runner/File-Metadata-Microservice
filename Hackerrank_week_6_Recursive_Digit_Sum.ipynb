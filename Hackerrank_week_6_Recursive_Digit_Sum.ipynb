{
  "nbformat": 4,
  "nbformat_minor": 0,
  "metadata": {
    "colab": {
      "provenance": [],
      "authorship_tag": "ABX9TyMkqqDmfT8mwouLyJbYx8Zv",
      "include_colab_link": true
    },
    "kernelspec": {
      "name": "python3",
      "display_name": "Python 3"
    },
    "language_info": {
      "name": "python"
    }
  },
  "cells": [
    {
      "cell_type": "markdown",
      "metadata": {
        "id": "view-in-github",
        "colab_type": "text"
      },
      "source": [
        "<a href=\"https://colab.research.google.com/github/Rhin0Runner/File-Metadata-Microservice/blob/main/Hackerrank_week_6_Recursive_Digit_Sum.ipynb\" target=\"_parent\"><img src=\"https://colab.research.google.com/assets/colab-badge.svg\" alt=\"Open In Colab\"/></a>"
      ]
    },
    {
      "cell_type": "code",
      "execution_count": 28,
      "metadata": {
        "id": "d2CU_xDUe0fj"
      },
      "outputs": [],
      "source": [
        "def superDigit(n, k):\n",
        "    # Write your code here\n",
        "    concat_n = str(n) * k\n",
        "    while len(concat_n) > 1:\n",
        "        concat_n = list(concat_n)\n",
        "        concat_n = list(map(int, concat_n))\n",
        "        sum_concat_n = sum(concat_n)\n",
        "        concat_n = str(sum_concat_n)\n",
        "    return concat_n"
      ]
    },
    {
      "cell_type": "code",
      "source": [
        "n = 148\n",
        "k = 3\n",
        "print(superDigit(n, k))"
      ],
      "metadata": {
        "colab": {
          "base_uri": "https://localhost:8080/"
        },
        "id": "VutatFGsfyCE",
        "outputId": "503b3013-29a4-4d7a-e133-020bd45fc10d"
      },
      "execution_count": 29,
      "outputs": [
        {
          "output_type": "stream",
          "name": "stdout",
          "text": [
            "3\n"
          ]
        }
      ]
    },
    {
      "cell_type": "code",
      "source": [
        "n = 9875\n",
        "k = 4\n",
        "print(superDigit(n, k))"
      ],
      "metadata": {
        "colab": {
          "base_uri": "https://localhost:8080/"
        },
        "id": "Ssg12Mv7kdlO",
        "outputId": "21fde77c-9622-4d40-b5f9-882453965731"
      },
      "execution_count": 23,
      "outputs": [
        {
          "output_type": "stream",
          "name": "stdout",
          "text": [
            "8\n"
          ]
        }
      ]
    },
    {
      "cell_type": "code",
      "source": [
        "n = 123\n",
        "k = 3\n",
        "print(superDigit(n, k))"
      ],
      "metadata": {
        "colab": {
          "base_uri": "https://localhost:8080/"
        },
        "id": "emg536GOki6N",
        "outputId": "af371a12-b427-41e7-d248-b7026fa1c7da"
      },
      "execution_count": 24,
      "outputs": [
        {
          "output_type": "stream",
          "name": "stdout",
          "text": [
            "9\n"
          ]
        }
      ]
    }
  ]
}