{
  "nbformat": 4,
  "nbformat_minor": 0,
  "metadata": {
    "colab": {
      "provenance": [],
      "authorship_tag": "ABX9TyNVhtLV2LIlNOrzfbdycljX",
      "include_colab_link": true
    },
    "kernelspec": {
      "name": "python3",
      "display_name": "Python 3"
    },
    "language_info": {
      "name": "python"
    }
  },
  "cells": [
    {
      "cell_type": "markdown",
      "metadata": {
        "id": "view-in-github",
        "colab_type": "text"
      },
      "source": [
        "<a href=\"https://colab.research.google.com/github/Rhin0Runner/File-Metadata-Microservice/blob/main/hackerrank_week2_Counting_Valleys.ipynb\" target=\"_parent\"><img src=\"https://colab.research.google.com/assets/colab-badge.svg\" alt=\"Open In Colab\"/></a>"
      ]
    },
    {
      "cell_type": "code",
      "execution_count": 41,
      "metadata": {
        "id": "o2UPinghijEl"
      },
      "outputs": [],
      "source": [
        "def countingValleys(steps, path):\n",
        "    valleys = 0\n",
        "    level = 0\n",
        "    for step in steps:\n",
        "        if step == 'D':\n",
        "            level -= 1\n",
        "        elif step == 'U':\n",
        "            level += 1\n",
        "            if level == 0:\n",
        "                valleys += 1\n",
        "\n",
        "\n",
        "    return valleys"
      ]
    },
    {
      "cell_type": "code",
      "source": [
        "steps = 'DDUUDDUDUUUD'\n",
        "path = 12\n",
        "countingValleys(steps, path)"
      ],
      "metadata": {
        "colab": {
          "base_uri": "https://localhost:8080/"
        },
        "id": "EA8vfqZHjPtE",
        "outputId": "6c26c170-f911-4a7a-edb8-81e101a49073"
      },
      "execution_count": 42,
      "outputs": [
        {
          "output_type": "execute_result",
          "data": {
            "text/plain": [
              "2"
            ]
          },
          "metadata": {},
          "execution_count": 42
        }
      ]
    }
  ]
}