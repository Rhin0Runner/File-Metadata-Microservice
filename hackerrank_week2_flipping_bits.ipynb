{
  "nbformat": 4,
  "nbformat_minor": 0,
  "metadata": {
    "colab": {
      "provenance": [],
      "authorship_tag": "ABX9TyONPlI7gKGfHtBJBc/nIARH",
      "include_colab_link": true
    },
    "kernelspec": {
      "name": "python3",
      "display_name": "Python 3"
    },
    "language_info": {
      "name": "python"
    }
  },
  "cells": [
    {
      "cell_type": "markdown",
      "metadata": {
        "id": "view-in-github",
        "colab_type": "text"
      },
      "source": [
        "<a href=\"https://colab.research.google.com/github/Rhin0Runner/File-Metadata-Microservice/blob/main/hackerrank_week2_flipping_bits.ipynb\" target=\"_parent\"><img src=\"https://colab.research.google.com/assets/colab-badge.svg\" alt=\"Open In Colab\"/></a>"
      ]
    },
    {
      "cell_type": "code",
      "execution_count": 26,
      "metadata": {
        "id": "Hu0lN4SbZsnB"
      },
      "outputs": [],
      "source": [
        "def flippingBits(n):\n",
        "    n_binary = bin(n)[2:].zfill(32)\n",
        "    print(n_binary)\n",
        "    n_binary_reversed = []\n",
        "    for elem in n_binary:\n",
        "        if elem == '0':\n",
        "            n_binary_reversed.append('1')\n",
        "        else:\n",
        "            n_binary_reversed.append(\"0\")\n",
        "    final_number = \"\".join(n_binary_reversed)\n",
        "    final_number = int(final_number, 2)\n",
        "    return (final_number)"
      ]
    },
    {
      "cell_type": "code",
      "source": [
        "print(flippingBits(9))"
      ],
      "metadata": {
        "colab": {
          "base_uri": "https://localhost:8080/"
        },
        "id": "dKtB3jOpeTMe",
        "outputId": "a50ac649-809e-4c3d-c4f2-8a30c4300eec"
      },
      "execution_count": 27,
      "outputs": [
        {
          "output_type": "stream",
          "name": "stdout",
          "text": [
            "00000000000000000000000000001001\n",
            "4294967286\n"
          ]
        }
      ]
    }
  ]
}