{
  "nbformat": 4,
  "nbformat_minor": 0,
  "metadata": {
    "colab": {
      "provenance": [],
      "authorship_tag": "ABX9TyML0cHhi0izfYMipIchn+m2",
      "include_colab_link": true
    },
    "kernelspec": {
      "name": "python3",
      "display_name": "Python 3"
    },
    "language_info": {
      "name": "python"
    }
  },
  "cells": [
    {
      "cell_type": "markdown",
      "metadata": {
        "id": "view-in-github",
        "colab_type": "text"
      },
      "source": [
        "<a href=\"https://colab.research.google.com/github/Rhin0Runner/File-Metadata-Microservice/blob/main/HackerRank_week5_Grid_Challenge.ipynb\" target=\"_parent\"><img src=\"https://colab.research.google.com/assets/colab-badge.svg\" alt=\"Open In Colab\"/></a>"
      ]
    },
    {
      "cell_type": "code",
      "execution_count": 2,
      "metadata": {
        "id": "P0jQnF8IfScy"
      },
      "outputs": [],
      "source": [
        "def sort_check(elem):\n",
        "    elem3 = elem\n",
        "    elem2 = ''.join(elem)\n",
        "    elem3.sort()\n",
        "    elem3 = ''.join(elem3)\n",
        "\n",
        "    if elem3 == elem2:\n",
        "        return True\n",
        "    else:\n",
        "        return False\n",
        "\n",
        "def gridChallenge(grid):\n",
        "    length = len(grid[0])\n",
        "    answers = []\n",
        "    for i in range(length):\n",
        "        elem = []\n",
        "        for j in range(len(grid)):\n",
        "            elem.append(grid[j][i])\n",
        "        answers.append(sort_check(elem))\n",
        "    if False in answers:\n",
        "        answer = 'NO'\n",
        "    else:\n",
        "        answer = 'YES'\n",
        "\n",
        "    return answer"
      ]
    },
    {
      "cell_type": "code",
      "source": [
        "grid = ['uxf','vof','hmp']\n",
        "print(gridChallenge(grid))"
      ],
      "metadata": {
        "colab": {
          "base_uri": "https://localhost:8080/"
        },
        "id": "RYPKI1rDkEm0",
        "outputId": "c48abffb-5567-458a-d84a-c2dd15190a4f"
      },
      "execution_count": 3,
      "outputs": [
        {
          "output_type": "stream",
          "name": "stdout",
          "text": [
            "NO\n"
          ]
        }
      ]
    },
    {
      "cell_type": "code",
      "source": [
        "grid = ['kc','iu']\n",
        "print(gridChallenge(grid))"
      ],
      "metadata": {
        "colab": {
          "base_uri": "https://localhost:8080/"
        },
        "id": "5TuU9fGnkVZD",
        "outputId": "db7fc566-fcf6-40db-dd93-02d35c908d4d"
      },
      "execution_count": 4,
      "outputs": [
        {
          "output_type": "stream",
          "name": "stdout",
          "text": [
            "NO\n"
          ]
        }
      ]
    },
    {
      "cell_type": "code",
      "source": [
        "grid = ['abc','ade','efg']\n",
        "print(gridChallenge(grid))"
      ],
      "metadata": {
        "colab": {
          "base_uri": "https://localhost:8080/"
        },
        "id": "_MMZGBc61p9c",
        "outputId": "91f7c706-31bd-412b-bdbf-ca8ec5fbdb7e"
      },
      "execution_count": 5,
      "outputs": [
        {
          "output_type": "stream",
          "name": "stdout",
          "text": [
            "YES\n"
          ]
        }
      ]
    }
  ]
}