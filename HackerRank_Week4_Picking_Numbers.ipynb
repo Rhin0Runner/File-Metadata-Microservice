{
  "nbformat": 4,
  "nbformat_minor": 0,
  "metadata": {
    "colab": {
      "provenance": [],
      "authorship_tag": "ABX9TyMj1ci+/m/jZLDQv57LT9z3",
      "include_colab_link": true
    },
    "kernelspec": {
      "name": "python3",
      "display_name": "Python 3"
    },
    "language_info": {
      "name": "python"
    }
  },
  "cells": [
    {
      "cell_type": "markdown",
      "metadata": {
        "id": "view-in-github",
        "colab_type": "text"
      },
      "source": [
        "<a href=\"https://colab.research.google.com/github/Rhin0Runner/File-Metadata-Microservice/blob/main/HackerRank_Week4_Picking_Numbers.ipynb\" target=\"_parent\"><img src=\"https://colab.research.google.com/assets/colab-badge.svg\" alt=\"Open In Colab\"/></a>"
      ]
    },
    {
      "cell_type": "code",
      "execution_count": 50,
      "metadata": {
        "id": "NUU4Z7DXam-i"
      },
      "outputs": [],
      "source": [
        "def block(arr):\n",
        "    counter = 0\n",
        "    if len(arr) == 1:\n",
        "        counter += 1\n",
        "    else:\n",
        "        for i in range(1, len(arr)):\n",
        "            if abs(arr[i] - arr[0]) <= 1:\n",
        "                counter += 1\n",
        "    del arr[:counter +1]\n",
        "\n",
        "    return counter + 1"
      ]
    },
    {
      "cell_type": "code",
      "source": [
        "a = [1,1,2,2,4,4,5,5,5]\n",
        "print(block(a))"
      ],
      "metadata": {
        "colab": {
          "base_uri": "https://localhost:8080/"
        },
        "id": "JGB-zx7Hryld",
        "outputId": "7cfc0eec-f74a-4974-fa39-8fc360814b5d"
      },
      "execution_count": 36,
      "outputs": [
        {
          "output_type": "stream",
          "name": "stdout",
          "text": [
            "4\n"
          ]
        }
      ]
    },
    {
      "cell_type": "code",
      "execution_count": 51,
      "metadata": {
        "id": "rR95N_Ppr-w1"
      },
      "outputs": [],
      "source": [
        "def pickingNumbers(a):\n",
        "    a.sort()\n",
        "    counters = []\n",
        "    while len(a):\n",
        "        counters.append(block(a))\n",
        "\n",
        "    return max(counters)"
      ]
    },
    {
      "cell_type": "code",
      "source": [
        "a = [1,1,2,2,4,4,5,5,5]\n",
        "print(pickingNumbers(a))"
      ],
      "metadata": {
        "colab": {
          "base_uri": "https://localhost:8080/"
        },
        "id": "esPtMhwndGue",
        "outputId": "d8ff6446-2734-40a6-9a7e-65e25414645f"
      },
      "execution_count": 43,
      "outputs": [
        {
          "output_type": "stream",
          "name": "stdout",
          "text": [
            "5\n"
          ]
        }
      ]
    },
    {
      "cell_type": "code",
      "source": [
        "a = [4, 6, 5, 3, 3, 1]\n",
        "print(pickingNumbers(a))"
      ],
      "metadata": {
        "colab": {
          "base_uri": "https://localhost:8080/"
        },
        "id": "FPW5nvhWdXgs",
        "outputId": "fe3e7441-ebb9-40e6-ce93-52c03bd92a4a"
      },
      "execution_count": 52,
      "outputs": [
        {
          "output_type": "stream",
          "name": "stdout",
          "text": [
            "3\n"
          ]
        }
      ]
    }
  ]
}