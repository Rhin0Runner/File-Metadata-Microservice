{
  "nbformat": 4,
  "nbformat_minor": 0,
  "metadata": {
    "colab": {
      "provenance": [],
      "authorship_tag": "ABX9TyOV7nv64dNXiWmVSElt9+EJ",
      "include_colab_link": true
    },
    "kernelspec": {
      "name": "python3",
      "display_name": "Python 3"
    },
    "language_info": {
      "name": "python"
    }
  },
  "cells": [
    {
      "cell_type": "markdown",
      "metadata": {
        "id": "view-in-github",
        "colab_type": "text"
      },
      "source": [
        "<a href=\"https://colab.research.google.com/github/Rhin0Runner/File-Metadata-Microservice/blob/main/HackerRank_Week3_Maximum_Perimeter_Triangle.ipynb\" target=\"_parent\"><img src=\"https://colab.research.google.com/assets/colab-badge.svg\" alt=\"Open In Colab\"/></a>"
      ]
    },
    {
      "cell_type": "code",
      "execution_count": 40,
      "metadata": {
        "id": "TIPLV4ZrHqxc"
      },
      "outputs": [],
      "source": [
        "from itertools import combinations\n",
        "\n",
        "def maximumPerimeterTriangle(sticks):\n",
        "    sticks.sort()\n",
        "    arrays = list(combinations(sticks,3))\n",
        "    triangles = []\n",
        "    for elem in arrays:\n",
        "        if elem[0] == elem[1] and elem[0] == elem[2]:\n",
        "            triangles.append(elem)\n",
        "        elif elem[2] < (elem[0] + elem[1]):\n",
        "            triangles.append(elem)\n",
        "    if len(triangles) == 0:\n",
        "        answer = {-1}\n",
        "    elif len(triangles) == 1:\n",
        "        answer = triangles[0]\n",
        "    else:\n",
        "        answer = triangles[-1]\n",
        "\n",
        "    return answer"
      ]
    },
    {
      "cell_type": "code",
      "source": [
        "sticks = [1, 1, 1, 3, 3]\n",
        "print(maximumPerimeterTriangle(sticks))"
      ],
      "metadata": {
        "colab": {
          "base_uri": "https://localhost:8080/"
        },
        "id": "uPMR6ysMH5DJ",
        "outputId": "f942fcc1-d4f1-4b58-f49c-bf5045619e71"
      },
      "execution_count": 35,
      "outputs": [
        {
          "output_type": "stream",
          "name": "stdout",
          "text": [
            "(1, 3, 3)\n"
          ]
        }
      ]
    },
    {
      "cell_type": "code",
      "source": [
        "sticks = [1, 2, 3]\n",
        "print(maximumPerimeterTriangle(sticks))"
      ],
      "metadata": {
        "colab": {
          "base_uri": "https://localhost:8080/"
        },
        "id": "s9oilM_xIMAP",
        "outputId": "643f428e-8670-45e6-d355-b1e29e516f18"
      },
      "execution_count": 41,
      "outputs": [
        {
          "output_type": "stream",
          "name": "stdout",
          "text": [
            "{-1}\n"
          ]
        }
      ]
    },
    {
      "cell_type": "code",
      "source": [
        "sticks = [1, 1, 1, 2, 3, 5]\n",
        "print(maximumPerimeterTriangle(sticks))"
      ],
      "metadata": {
        "colab": {
          "base_uri": "https://localhost:8080/"
        },
        "id": "maWb8GmwIY4f",
        "outputId": "67faaaf4-4c9d-4c5e-d249-8fffed68092a"
      },
      "execution_count": 37,
      "outputs": [
        {
          "output_type": "stream",
          "name": "stdout",
          "text": [
            "(1, 1, 1)\n"
          ]
        }
      ]
    }
  ]
}