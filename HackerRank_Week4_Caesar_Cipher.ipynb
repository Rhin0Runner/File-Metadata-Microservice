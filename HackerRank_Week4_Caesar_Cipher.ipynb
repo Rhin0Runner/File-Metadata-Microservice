{
  "nbformat": 4,
  "nbformat_minor": 0,
  "metadata": {
    "colab": {
      "provenance": [],
      "authorship_tag": "ABX9TyNkfqhx7fgjPPnwSoN/Ngm8",
      "include_colab_link": true
    },
    "kernelspec": {
      "name": "python3",
      "display_name": "Python 3"
    },
    "language_info": {
      "name": "python"
    }
  },
  "cells": [
    {
      "cell_type": "markdown",
      "metadata": {
        "id": "view-in-github",
        "colab_type": "text"
      },
      "source": [
        "<a href=\"https://colab.research.google.com/github/Rhin0Runner/File-Metadata-Microservice/blob/main/HackerRank_Week4_Caesar_Cipher.ipynb\" target=\"_parent\"><img src=\"https://colab.research.google.com/assets/colab-badge.svg\" alt=\"Open In Colab\"/></a>"
      ]
    },
    {
      "cell_type": "code",
      "execution_count": 78,
      "metadata": {
        "id": "o6BEzylu7M1N"
      },
      "outputs": [],
      "source": [
        "def caesarCipher(s, k):\n",
        "    k = k % 26\n",
        "    arr = []\n",
        "    chars = ['/', '-', '_', ',', '.', ' ', '!', '?','1','2','3','4','5','6','7','8','9','0','*','+','[',']','{','}','(',')','<','>','`']\n",
        "    for char in s:\n",
        "        if char in chars:\n",
        "            arr.append(char)\n",
        "        else:\n",
        "            character = ord(char)\n",
        "            if chr(character).islower():\n",
        "                if (character + k) > 122:\n",
        "                    character -= 26\n",
        "                arr.append(chr(character + k))\n",
        "            elif chr(character).isupper():\n",
        "                if (character + k) > 90:\n",
        "                    character -= 26\n",
        "                arr.append(chr(character + k))\n",
        "    return ''.join(arr)"
      ]
    },
    {
      "cell_type": "code",
      "source": [
        "s = 'www.abc.xy'\n",
        "k = 87\n",
        "print(caesarCipher(s, k))"
      ],
      "metadata": {
        "colab": {
          "base_uri": "https://localhost:8080/"
        },
        "id": "zY9LdQSg-PiJ",
        "outputId": "d2a66560-619f-4fe8-d26b-44104de6a87d"
      },
      "execution_count": 79,
      "outputs": [
        {
          "output_type": "stream",
          "name": "stdout",
          "text": [
            "fff.jkl.gh\n"
          ]
        }
      ]
    }
  ]
}