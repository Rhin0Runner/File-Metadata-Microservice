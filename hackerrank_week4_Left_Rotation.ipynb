{
  "nbformat": 4,
  "nbformat_minor": 0,
  "metadata": {
    "colab": {
      "provenance": [],
      "authorship_tag": "ABX9TyM+HPLa0N2rzCoJ2Vzx7TBH",
      "include_colab_link": true
    },
    "kernelspec": {
      "name": "python3",
      "display_name": "Python 3"
    },
    "language_info": {
      "name": "python"
    }
  },
  "cells": [
    {
      "cell_type": "markdown",
      "metadata": {
        "id": "view-in-github",
        "colab_type": "text"
      },
      "source": [
        "<a href=\"https://colab.research.google.com/github/Rhin0Runner/File-Metadata-Microservice/blob/main/hackerrank_week4_Left_Rotation.ipynb\" target=\"_parent\"><img src=\"https://colab.research.google.com/assets/colab-badge.svg\" alt=\"Open In Colab\"/></a>"
      ]
    },
    {
      "cell_type": "code",
      "execution_count": 18,
      "metadata": {
        "id": "TT3MJXT7jrJg"
      },
      "outputs": [],
      "source": [
        "def rotateLeft(d, arr):\n",
        "    if d > len(arr):\n",
        "        while d > len(arr):\n",
        "            d = d - len(arr)\n",
        "    removed = arr[:d]\n",
        "    del arr[:d]\n",
        "    for elem in removed:\n",
        "        arr.append(elem)\n",
        "    return arr"
      ]
    },
    {
      "cell_type": "code",
      "source": [
        "d = 2\n",
        "arr = [1,2,3,4,5]\n",
        "print(rotateLeft(d, arr))"
      ],
      "metadata": {
        "colab": {
          "base_uri": "https://localhost:8080/"
        },
        "id": "hyiutw5ykkWR",
        "outputId": "d86c380c-29ec-4c8e-8018-0bead45700fe"
      },
      "execution_count": 19,
      "outputs": [
        {
          "output_type": "stream",
          "name": "stdout",
          "text": [
            "[3, 4, 5, 1, 2]\n"
          ]
        }
      ]
    }
  ]
}