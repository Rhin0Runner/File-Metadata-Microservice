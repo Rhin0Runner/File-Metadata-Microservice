{
  "nbformat": 4,
  "nbformat_minor": 0,
  "metadata": {
    "colab": {
      "provenance": [],
      "authorship_tag": "ABX9TyNaCbGw3/Stii2R+L17RyaS",
      "include_colab_link": true
    },
    "kernelspec": {
      "name": "python3",
      "display_name": "Python 3"
    },
    "language_info": {
      "name": "python"
    }
  },
  "cells": [
    {
      "cell_type": "markdown",
      "metadata": {
        "id": "view-in-github",
        "colab_type": "text"
      },
      "source": [
        "<a href=\"https://colab.research.google.com/github/Rhin0Runner/File-Metadata-Microservice/blob/main/HackerRank_week3_Zig_Zag_Sequence.ipynb\" target=\"_parent\"><img src=\"https://colab.research.google.com/assets/colab-badge.svg\" alt=\"Open In Colab\"/></a>"
      ]
    },
    {
      "cell_type": "code",
      "execution_count": null,
      "metadata": {
        "id": "p6b62bHUl2YV"
      },
      "outputs": [],
      "source": [
        "def findZigZagSequence(a, n):\n",
        "    a.sort()\n",
        "    mid = int((n + 1)/2) - 1\n",
        "    a[mid], a[n-1] = a[n-1], a[mid]\n",
        "\n",
        "    st = mid + 1\n",
        "    ed = n - 2\n",
        "    while(st <= ed):\n",
        "        a[st], a[ed] = a[ed], a[st]\n",
        "        st = st + 1\n",
        "        ed = ed - 1\n",
        "\n",
        "    for i in range (n):\n",
        "        if i == n-1:\n",
        "            print(a[i])\n",
        "        else:\n",
        "            print(a[i], end = ' ')\n",
        "    return\n",
        "\n",
        "test_cases = int(input())\n",
        "for cs in range (test_cases):\n",
        "    n = int(input())\n",
        "    a = list(map(int, input().split()))\n",
        "    findZigZagSequence(a, n)"
      ]
    }
  ]
}