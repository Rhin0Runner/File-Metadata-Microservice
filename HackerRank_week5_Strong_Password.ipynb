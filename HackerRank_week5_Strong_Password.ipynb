{
  "nbformat": 4,
  "nbformat_minor": 0,
  "metadata": {
    "colab": {
      "provenance": [],
      "authorship_tag": "ABX9TyN6b+GeQE+vJsGOpCqCqU8/",
      "include_colab_link": true
    },
    "kernelspec": {
      "name": "python3",
      "display_name": "Python 3"
    },
    "language_info": {
      "name": "python"
    }
  },
  "cells": [
    {
      "cell_type": "markdown",
      "metadata": {
        "id": "view-in-github",
        "colab_type": "text"
      },
      "source": [
        "<a href=\"https://colab.research.google.com/github/Rhin0Runner/File-Metadata-Microservice/blob/main/HackerRank_week5_Strong_Password.ipynb\" target=\"_parent\"><img src=\"https://colab.research.google.com/assets/colab-badge.svg\" alt=\"Open In Colab\"/></a>"
      ]
    },
    {
      "cell_type": "code",
      "execution_count": 74,
      "metadata": {
        "id": "evcqEpZyTyg4"
      },
      "outputs": [],
      "source": [
        "def minimumNumber(n, password):\n",
        "    numbers = \"0123456789\"\n",
        "    lower_case = \"abcdefghijklmnopqrstuvwxyz\"\n",
        "    upper_case = \"ABCDEFGHIJKLMNOPQRSTUVWXYZ\"\n",
        "    special_characters = \"!@#$%^&*()-+\"\n",
        "    results = []\n",
        "    numbers_counter = 0\n",
        "    lower_counter = 0\n",
        "    upper_counter = 0\n",
        "    special_counter = 0\n",
        "\n",
        "    for char in password:\n",
        "        if char in numbers:\n",
        "            numbers_counter += 1\n",
        "        elif char in lower_case:\n",
        "            lower_counter += 1\n",
        "        elif char in upper_case:\n",
        "            upper_counter += 1\n",
        "        elif char in special_characters:\n",
        "            special_counter += 1\n",
        "\n",
        "    results.append(numbers_counter)\n",
        "    results.append(lower_counter)\n",
        "    results.append(upper_counter)\n",
        "    results.append(special_counter)\n",
        "\n",
        "    counter = 0\n",
        "    for elem in results:\n",
        "        if elem == 0:\n",
        "            counter += 1\n",
        "\n",
        "    if (n + counter) >= 6:\n",
        "        return counter\n",
        "    else:\n",
        "        num_to_add = abs(n + counter - 6)\n",
        "        return counter + num_to_add"
      ]
    },
    {
      "cell_type": "code",
      "source": [
        "password = 'Ab1'\n",
        "n = 3\n",
        "print(minimumNumber(n, password))"
      ],
      "metadata": {
        "colab": {
          "base_uri": "https://localhost:8080/"
        },
        "id": "iWkhMYahazlI",
        "outputId": "5148c2be-48a0-4b65-e850-681006b641d5"
      },
      "execution_count": 75,
      "outputs": [
        {
          "output_type": "stream",
          "name": "stdout",
          "text": [
            "3\n"
          ]
        }
      ]
    },
    {
      "cell_type": "code",
      "source": [
        "password = '2bbbb'\n",
        "n = 5\n",
        "print(minimumNumber(n, password))"
      ],
      "metadata": {
        "colab": {
          "base_uri": "https://localhost:8080/"
        },
        "id": "vv5Esirzj-OB",
        "outputId": "71a60714-87c6-45ca-e335-31864c408617"
      },
      "execution_count": 51,
      "outputs": [
        {
          "output_type": "stream",
          "name": "stdout",
          "text": [
            "2\n"
          ]
        }
      ]
    },
    {
      "cell_type": "code",
      "source": [
        "password = '2bb#A'\n",
        "n = 3\n",
        "print(minimumNumber(n, password))"
      ],
      "metadata": {
        "colab": {
          "base_uri": "https://localhost:8080/"
        },
        "id": "Pq6n_s7rkDzo",
        "outputId": "eb75d715-6c6a-4c66-a6e3-f69fe2a43244"
      },
      "execution_count": 52,
      "outputs": [
        {
          "output_type": "stream",
          "name": "stdout",
          "text": [
            "2\n"
          ]
        }
      ]
    }
  ]
}