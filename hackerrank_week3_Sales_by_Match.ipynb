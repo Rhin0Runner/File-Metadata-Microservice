{
  "nbformat": 4,
  "nbformat_minor": 0,
  "metadata": {
    "colab": {
      "provenance": [],
      "authorship_tag": "ABX9TyND/OfVZnd437UXSv4pWkAt",
      "include_colab_link": true
    },
    "kernelspec": {
      "name": "python3",
      "display_name": "Python 3"
    },
    "language_info": {
      "name": "python"
    }
  },
  "cells": [
    {
      "cell_type": "markdown",
      "metadata": {
        "id": "view-in-github",
        "colab_type": "text"
      },
      "source": [
        "<a href=\"https://colab.research.google.com/github/Rhin0Runner/File-Metadata-Microservice/blob/main/hackerrank_week3_Sales_by_Match.ipynb\" target=\"_parent\"><img src=\"https://colab.research.google.com/assets/colab-badge.svg\" alt=\"Open In Colab\"/></a>"
      ]
    },
    {
      "cell_type": "code",
      "execution_count": 10,
      "metadata": {
        "id": "75lyc-pbiDkR"
      },
      "outputs": [],
      "source": [
        "def sockMerchant(n, ar):\n",
        "    pairs = 0\n",
        "    ar.sort()\n",
        "    while len(ar) >= 2:\n",
        "        if ar[0] == ar[1]:\n",
        "            pairs += 1\n",
        "            del ar[:2]\n",
        "        else:\n",
        "            del ar[:1]\n",
        "    return pairs"
      ]
    },
    {
      "cell_type": "code",
      "source": [
        "ar = [10, 20, 20, 10, 10, 30, 50, 10, 20]\n",
        "n = 9\n",
        "print(sockMerchant(n, ar))"
      ],
      "metadata": {
        "colab": {
          "base_uri": "https://localhost:8080/"
        },
        "id": "-PgTZCjNibUD",
        "outputId": "6cb2bc99-e623-418e-e737-459f7c3da609"
      },
      "execution_count": 11,
      "outputs": [
        {
          "output_type": "stream",
          "name": "stdout",
          "text": [
            "3\n"
          ]
        }
      ]
    }
  ]
}