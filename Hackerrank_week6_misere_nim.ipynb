{
  "nbformat": 4,
  "nbformat_minor": 0,
  "metadata": {
    "colab": {
      "provenance": [],
      "authorship_tag": "ABX9TyN6jIYk55W5Tl1bfnd7zZra",
      "include_colab_link": true
    },
    "kernelspec": {
      "name": "python3",
      "display_name": "Python 3"
    },
    "language_info": {
      "name": "python"
    }
  },
  "cells": [
    {
      "cell_type": "markdown",
      "metadata": {
        "id": "view-in-github",
        "colab_type": "text"
      },
      "source": [
        "<a href=\"https://colab.research.google.com/github/Rhin0Runner/File-Metadata-Microservice/blob/main/Hackerrank_week6_misere_nim.ipynb\" target=\"_parent\"><img src=\"https://colab.research.google.com/assets/colab-badge.svg\" alt=\"Open In Colab\"/></a>"
      ]
    },
    {
      "cell_type": "code",
      "execution_count": 1,
      "metadata": {
        "id": "59iFMtFURq0y"
      },
      "outputs": [],
      "source": [
        "import math\n",
        "import os\n",
        "import random\n",
        "import re\n",
        "import sys\n",
        "from functools import reduce\n",
        "\n",
        "#\n",
        "# Complete the 'misereNim' function below.\n",
        "#\n",
        "# The function is expected to return a STRING.\n",
        "# The function accepts INTEGER_ARRAY s as parameter.\n",
        "#\n",
        "\n",
        "def misereNim(s):\n",
        "    # Write your code here\n",
        "    if(set(s) == {1} and n % 2 == 1):\n",
        "        return \"Second\"\n",
        "    elif (set(s) == {1} and n % 2 ==0):\n",
        "        return \"First\"\n",
        "    elif reduce((lambda x,y:x^y),s):\n",
        "        return \"First\"\n",
        "    else:\n",
        "        return \"Second\""
      ]
    }
  ]
}