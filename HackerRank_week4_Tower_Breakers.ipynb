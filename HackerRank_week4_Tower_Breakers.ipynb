{
  "nbformat": 4,
  "nbformat_minor": 0,
  "metadata": {
    "colab": {
      "provenance": [],
      "authorship_tag": "ABX9TyP29fUwdx7xwCsCaWVTwiTM",
      "include_colab_link": true
    },
    "kernelspec": {
      "name": "python3",
      "display_name": "Python 3"
    },
    "language_info": {
      "name": "python"
    }
  },
  "cells": [
    {
      "cell_type": "markdown",
      "metadata": {
        "id": "view-in-github",
        "colab_type": "text"
      },
      "source": [
        "<a href=\"https://colab.research.google.com/github/Rhin0Runner/File-Metadata-Microservice/blob/main/HackerRank_week4_Tower_Breakers.ipynb\" target=\"_parent\"><img src=\"https://colab.research.google.com/assets/colab-badge.svg\" alt=\"Open In Colab\"/></a>"
      ]
    },
    {
      "cell_type": "code",
      "execution_count": 1,
      "metadata": {
        "id": "EDgQcy71bnpF"
      },
      "outputs": [],
      "source": [
        "def towerBreakers(n, m):\n",
        "    # Write your code here\n",
        "    if m == 1 or n % 2 == 0:\n",
        "        return 2\n",
        "    else:\n",
        "        return 1"
      ]
    }
  ]
}