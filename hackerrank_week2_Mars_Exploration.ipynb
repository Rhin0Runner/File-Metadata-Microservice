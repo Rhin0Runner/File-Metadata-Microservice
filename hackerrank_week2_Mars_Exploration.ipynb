{
  "nbformat": 4,
  "nbformat_minor": 0,
  "metadata": {
    "colab": {
      "provenance": [],
      "authorship_tag": "ABX9TyOrhzKyvd4Law6f2g1s2bJp",
      "include_colab_link": true
    },
    "kernelspec": {
      "name": "python3",
      "display_name": "Python 3"
    },
    "language_info": {
      "name": "python"
    }
  },
  "cells": [
    {
      "cell_type": "markdown",
      "metadata": {
        "id": "view-in-github",
        "colab_type": "text"
      },
      "source": [
        "<a href=\"https://colab.research.google.com/github/Rhin0Runner/File-Metadata-Microservice/blob/main/hackerrank_week2_Mars_Exploration.ipynb\" target=\"_parent\"><img src=\"https://colab.research.google.com/assets/colab-badge.svg\" alt=\"Open In Colab\"/></a>"
      ]
    },
    {
      "cell_type": "code",
      "execution_count": 14,
      "metadata": {
        "id": "Ixg3pcDh7nP-"
      },
      "outputs": [],
      "source": [
        "def marsExploration(s):\n",
        "    s_length = len(s)\n",
        "    sos_number = int(s_length / 3)\n",
        "    sos_arr = []\n",
        "    counter = 0\n",
        "    for i in range(sos_number):\n",
        "        sos_arr.append('SOS')\n",
        "    expected_str = ''.join(sos_arr)\n",
        "    for j in range(s_length):\n",
        "        if s[j] != expected_str[j]:\n",
        "            counter +=1\n",
        "    return counter"
      ]
    },
    {
      "cell_type": "code",
      "source": [
        "s = 'SOSSPSSQSSOR'\n",
        "marsExploration(s)"
      ],
      "metadata": {
        "colab": {
          "base_uri": "https://localhost:8080/"
        },
        "id": "9BPITM1e70lc",
        "outputId": "49a9f97b-2e9b-4ec8-9c22-53bd017068e5"
      },
      "execution_count": 15,
      "outputs": [
        {
          "output_type": "execute_result",
          "data": {
            "text/plain": [
              "3"
            ]
          },
          "metadata": {},
          "execution_count": 15
        }
      ]
    }
  ]
}