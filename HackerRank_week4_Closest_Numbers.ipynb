{
  "nbformat": 4,
  "nbformat_minor": 0,
  "metadata": {
    "colab": {
      "provenance": [],
      "authorship_tag": "ABX9TyPJRg4QR6I+Z0hx4n7t5vNB",
      "include_colab_link": true
    },
    "kernelspec": {
      "name": "python3",
      "display_name": "Python 3"
    },
    "language_info": {
      "name": "python"
    }
  },
  "cells": [
    {
      "cell_type": "markdown",
      "metadata": {
        "id": "view-in-github",
        "colab_type": "text"
      },
      "source": [
        "<a href=\"https://colab.research.google.com/github/Rhin0Runner/File-Metadata-Microservice/blob/main/HackerRank_week4_Closest_Numbers.ipynb\" target=\"_parent\"><img src=\"https://colab.research.google.com/assets/colab-badge.svg\" alt=\"Open In Colab\"/></a>"
      ]
    },
    {
      "cell_type": "code",
      "execution_count": 20,
      "metadata": {
        "id": "DCEZcT4AThrG"
      },
      "outputs": [],
      "source": [
        "def closestNumbers(arr):\n",
        "    arr.sort()\n",
        "    large_arr = []\n",
        "    diff_1_arr = []\n",
        "    final_arr = []\n",
        "\n",
        "    while len(arr) >= 2:\n",
        "        large_arr.append((arr[0], arr[1]))\n",
        "        del arr[:1]\n",
        "    smallest_diff = large_arr[0][1] - large_arr[0][0]\n",
        "    for elem in large_arr:\n",
        "        if (elem[1] - elem[0]) < smallest_diff:\n",
        "            smallest_diff = elem[1] - elem[0]\n",
        "    for elem in large_arr:\n",
        "        if elem[1] - elem[0] == smallest_diff:\n",
        "            diff_1_arr.append(elem)\n",
        "    for elem in diff_1_arr:\n",
        "        final_arr.append(elem[0])\n",
        "        final_arr.append(elem[1])\n",
        "\n",
        "    return final_arr"
      ]
    },
    {
      "cell_type": "code",
      "source": [
        "arr = [5,2,3,4,1]\n",
        "print(closestNumbers(arr))"
      ],
      "metadata": {
        "colab": {
          "base_uri": "https://localhost:8080/"
        },
        "id": "tUy83G-XYxRy",
        "outputId": "92695a46-5a51-47ef-f628-20b1004118df"
      },
      "execution_count": 21,
      "outputs": [
        {
          "output_type": "stream",
          "name": "stdout",
          "text": [
            "[1, 2, 2, 3, 3, 4, 4, 5]\n"
          ]
        }
      ]
    },
    {
      "cell_type": "code",
      "source": [
        "arr = [-5, 15, 25, 71, 63]\n",
        "print(closestNumbers(arr))"
      ],
      "metadata": {
        "colab": {
          "base_uri": "https://localhost:8080/"
        },
        "id": "PXFDopO4cOUa",
        "outputId": "8c489889-39a0-44d6-9f5e-b24bafc46283"
      },
      "execution_count": 23,
      "outputs": [
        {
          "output_type": "stream",
          "name": "stdout",
          "text": [
            "[63, 71]\n"
          ]
        }
      ]
    }
  ]
}