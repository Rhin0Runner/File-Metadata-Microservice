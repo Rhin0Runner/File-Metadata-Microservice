{
  "nbformat": 4,
  "nbformat_minor": 0,
  "metadata": {
    "colab": {
      "provenance": [],
      "authorship_tag": "ABX9TyOI/xcZEF4NrlPCGIZP4Wci",
      "include_colab_link": true
    },
    "kernelspec": {
      "name": "python3",
      "display_name": "Python 3"
    },
    "language_info": {
      "name": "python"
    }
  },
  "cells": [
    {
      "cell_type": "markdown",
      "metadata": {
        "id": "view-in-github",
        "colab_type": "text"
      },
      "source": [
        "<a href=\"https://colab.research.google.com/github/Rhin0Runner/File-Metadata-Microservice/blob/main/tf_idf_Read_the_News_Analysis.ipynb\" target=\"_parent\"><img src=\"https://colab.research.google.com/assets/colab-badge.svg\" alt=\"Open In Colab\"/></a>"
      ]
    },
    {
      "cell_type": "code",
      "execution_count": null,
      "metadata": {
        "id": "kcIrQbl5rYxd"
      },
      "outputs": [],
      "source": [
        "import codecademylib3_seaborn\n",
        "import pandas as pd\n",
        "import numpy as np\n",
        "from articles import articles\n",
        "from preprocessing import preprocess_text\n",
        "#1\n",
        "# import CountVectorizer, TfidfTransformer, TfidfVectorizer\n",
        "from sklearn.feature_extraction.text import CountVectorizer, TfidfTransformer, TfidfVectorizer\n",
        "#2\n",
        "# view article\n",
        "print(len(articles))\n",
        "print(articles[3])\n",
        "#3\n",
        "# preprocess articles\n",
        "processed_articles = [preprocess_text(document) for document in articles]\n",
        "#4\n",
        "# initialize and fit CountVectorizer\n",
        "vectorizer = CountVectorizer()\n",
        "#5\n",
        "counts = vectorizer.fit_transform(processed_articles)\n",
        "#6\n",
        "# convert counts to tf-idf\n",
        "# initialize and fit TfidfVectorizer\n",
        "transformer = TfidfTransformer(norm=None)\n",
        "#7\n",
        "tfidf_scores_transformed = transformer.fit_transform(counts)\n",
        "#8\n",
        "vectorizer = TfidfVectorizer(norm=None)\n",
        "#9\n",
        "tfidf_scores = vectorizer.fit_transform(processed_articles)\n",
        "#10\n",
        "# check if tf-idf scores are equal\n",
        "if np.allclose(tfidf_scores_transformed.todense(), tfidf_scores.todense()):\n",
        "  print(pd.DataFrame({'Are the tf-idf scores the same?':['YES']}))\n",
        "else:\n",
        "  print(pd.DataFrame({'Are the tf-idf scores the same?':['No, something is wrong :(']}))\n",
        "\n",
        "\n",
        "# get vocabulary of terms\n",
        "try:\n",
        "  feature_names = vectorizer.get_feature_names()\n",
        "except:\n",
        "  pass\n",
        "\n",
        "# get article index\n",
        "try:\n",
        "  article_index = [f\"Article {i+1}\" for i in range(len(articles))]\n",
        "except:\n",
        "  pass\n",
        "\n",
        "# create pandas DataFrame with word counts\n",
        "try:\n",
        "  df_word_counts = pd.DataFrame(counts.T.todense(), index=feature_names, columns=article_index)\n",
        "  print(df_word_counts)\n",
        "except:\n",
        "  pass\n",
        "\n",
        "# create pandas DataFrame(s) with tf-idf scores\n",
        "try:\n",
        "  df_tf_idf = pd.DataFrame(tfidf_scores_transformed.T.todense(), index=feature_names, columns=article_index)\n",
        "  print(df_tf_idf)\n",
        "except:\n",
        "  pass\n",
        "\n",
        "try:\n",
        "  df_tf_idf = pd.DataFrame(tfidf_scores.T.todense(), index=feature_names, columns=article_index)\n",
        "  print(df_tf_idf)\n",
        "except:\n",
        "  pass\n",
        "#11\n",
        "# get highest scoring tf-idf term for each article\n",
        "for i in range(1,11):\n",
        "  print(df_tf_idf[[f'Article {i}']].idxmax())\n"
      ]
    }
  ]
}